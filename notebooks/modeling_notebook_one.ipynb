{
  "nbformat": 4,
  "nbformat_minor": 0,
  "metadata": {
    "colab": {
      "name": "dsci303_project_nov18.ipynb",
      "provenance": [],
      "collapsed_sections": []
    },
    "kernelspec": {
      "display_name": "Python 3",
      "name": "python3"
    },
    "language_info": {
      "name": "python"
    }
  },
  "cells": [
    {
      "cell_type": "markdown",
      "source": [
        "# Modeling Notebook One\n",
        "This notebook contains the logic for performing Linear Regression, Ridge Regression, Random Forest Regression, and Random Forest Classification."
      ],
      "metadata": {
        "id": "o4p4FhgS3MvE"
      }
    },
    {
      "cell_type": "code",
      "metadata": {
        "id": "q2NunVS7RIjj"
      },
      "source": [
        "import pandas as pd\n",
        "import numpy as np\n",
        "import matplotlib.pyplot as plt"
      ],
      "execution_count": null,
      "outputs": []
    },
    {
      "cell_type": "code",
      "metadata": {
        "id": "A8dgsKhNRd5u"
      },
      "source": [
        "from google.colab import drive\n",
        "drive.mount('/content/drive')"
      ],
      "execution_count": null,
      "outputs": []
    },
    {
      "cell_type": "code",
      "metadata": {
        "id": "UuS7RhwxRhyL"
      },
      "source": [
        "!ls "
      ],
      "execution_count": null,
      "outputs": []
    },
    {
      "cell_type": "code",
      "metadata": {
        "id": "Nz0OsnfmRjl0"
      },
      "source": [
        "cleaned = pd.read_csv(\"/content/drive/Shareddrives/Data Science 303 Group Project/csv/cleaned_fires_data_with_four_closest_stations_nov21.csv\")\n",
        "cleaned = cleaned.replace([np.inf, -np.inf], np.nan)\n",
        "cleaned = cleaned.dropna()"
      ],
      "execution_count": null,
      "outputs": []
    },
    {
      "cell_type": "code",
      "metadata": {
        "id": "UuF6BicbSFOs"
      },
      "source": [
        "display(cleaned.head())\n",
        "display(cleaned.info(verbose=True))\n",
        "\n",
        "STATION_LIST = [\"BODIE\", \"BROOKS\", \"COHASSET\", \"EEL_RIVER\", \"HELL_HOLE\", \"HERNANDEZ\"]\n",
        "STATION_LIST += [\"HUNTER_MOUNTAIN\", \"JUANITA_LAKE\", \"LADDER_BUTTE\", \"LAS_TABLAS\", \"LA_HONDA\", \"OAK_CREEK\"]\n",
        "STATION_LIST += [\"PANAMINT\", \"PILOT_HILL\", \"SCORPION\", \"SOLDIER_MOUNTAIN\", \"SQUAW_LAKE\", \"STAMPEDE\", \"VAN_BREMMER\", \"WOLVERTON\"]\n",
        "STATION_LIST = set(STATION_LIST)"
      ],
      "execution_count": null,
      "outputs": []
    },
    {
      "cell_type": "markdown",
      "metadata": {
        "id": "TrQXXH33VoQe"
      },
      "source": [
        "Final Part of Normalization: MinMax scaling latitude and longitude"
      ]
    },
    {
      "cell_type": "code",
      "metadata": {
        "id": "O_FVCezLVyzA"
      },
      "source": [
        "from sklearn.preprocessing import MinMaxScaler\n",
        "scaler = MinMaxScaler()\n",
        "\n",
        "lat = scaler.fit_transform(np.array(cleaned[\"LATITUDE\"]).reshape(-1, 1))\n",
        "long = scaler.fit_transform(np.array(cleaned[\"LONGITUDE\"]).reshape(-1, 1))\n",
        "\n",
        "# DROP ALL LATITUDE LONGITUDE COLUMNS, THEN READD THE SCALED LATITUDE AND LONGITUDE\n",
        "drops = []\n",
        "for col in cleaned.columns:\n",
        "  if \"LATITUDE\" in col or \"LONGITUDE\" in col:\n",
        "    drops.append(col)\n",
        "\n",
        "for col in drops:\n",
        "  del cleaned[col]\n",
        "\n",
        "cleaned[\"S_LATITUDE\"] = lat\n",
        "cleaned[\"S_LONGITUDE\"] = long\n"
      ],
      "execution_count": null,
      "outputs": []
    },
    {
      "cell_type": "code",
      "metadata": {
        "id": "0Ex2Sx7_nGq7"
      },
      "source": [
        "# Elevation for the primary station is redundant. Drop all elevation columns from the primary station, except for one\n",
        "elevation = cleaned[\"PRIMARY_STATION_1_MONTHS_PRIOR_ELEVATION\"]\n",
        "\n",
        "drops = []\n",
        "for col in cleaned.columns:\n",
        "  if \"PRIMARY_STATION\" in col and \"ELEVATION\" in col:\n",
        "    drops.append(col)\n",
        "\n",
        "for col in drops:\n",
        "  del cleaned[col]\n",
        "\n",
        "cleaned[\"PRIMARY_STATION_ELEVATION\"] = elevation\n"
      ],
      "execution_count": null,
      "outputs": []
    },
    {
      "cell_type": "code",
      "metadata": {
        "id": "5VIHZ7gXSN8S"
      },
      "source": [
        "# We should have a large number of fires. If not, fail\n",
        "print(len(cleaned))\n",
        "assert(len(cleaned) > 70000)"
      ],
      "execution_count": null,
      "outputs": []
    },
    {
      "cell_type": "code",
      "metadata": {
        "id": "iYy448kCXHWA"
      },
      "source": [
        "print( (1 - 360) % 365)"
      ],
      "execution_count": null,
      "outputs": []
    },
    {
      "cell_type": "code",
      "metadata": {
        "id": "LfOLzHo2TYft"
      },
      "source": [
        "cleaned['DURATION'] = (cleaned['CONT_DOY']-cleaned['DISCOVERY_DOY'])%365"
      ],
      "execution_count": null,
      "outputs": []
    },
    {
      "cell_type": "code",
      "metadata": {
        "id": "bw39hM_oVVRT"
      },
      "source": [
        "cleaned['DURATION'].max()"
      ],
      "execution_count": null,
      "outputs": []
    },
    {
      "cell_type": "code",
      "metadata": {
        "id": "r5YyTq8dSOpO"
      },
      "source": [
        "from sklearn.linear_model import LinearRegression, Ridge"
      ],
      "execution_count": null,
      "outputs": []
    },
    {
      "cell_type": "code",
      "metadata": {
        "id": "ozwJ90fsSeDx"
      },
      "source": [
        "# Working off of closest_station_1 for now, we can replicate later with other stations if we want\n",
        "# 1. Get number of days that the fire was going (containment date - discovery date)\n",
        "# Model 1a: fire duration"
      ],
      "execution_count": null,
      "outputs": []
    },
    {
      "cell_type": "code",
      "metadata": {
        "id": "92dbCL1tWfea"
      },
      "source": [
        "numerical = cleaned.select_dtypes(include=\"number\")\n",
        "numerical.head()\n",
        "numerical.info(verbose=True)"
      ],
      "execution_count": null,
      "outputs": []
    },
    {
      "cell_type": "code",
      "metadata": {
        "id": "2z5aIVKUW1VZ"
      },
      "source": [
        "cols = numerical.columns\n",
        "closest = []\n",
        "\n",
        "for col in cols:\n",
        "  if (col[:16] == 'CLOSEST_STATION_' or col in STATION_LIST or col == \"S_LATITUDE\" or col == \"S_LONGITUDE\"): \n",
        "    closest.append(col)"
      ],
      "execution_count": null,
      "outputs": []
    },
    {
      "cell_type": "code",
      "metadata": {
        "id": "BW1_1stzkc1R"
      },
      "source": [
        "primary_station_data_cols = []\n",
        "for col in cols:\n",
        "  if (\"PRIMARY_STATION\" in col or col in STATION_LIST or col == \"S_LATITUDE\" or col == \"S_LONGITUDE\"): \n",
        "    primary_station_data_cols.append(col)\n",
        "\n",
        "primary_station_df = pd.DataFrame()\n",
        "for col in primary_station_data_cols:\n",
        "  primary_station_df[col] = numerical[col]\n",
        "\n",
        "primary_station_df[\"FIRE_SIZE\"] = numerical[\"FIRE_SIZE\"]\n",
        "primary_station_df[\"DURATION\"] = numerical[\"DURATION\"]\n"
      ],
      "execution_count": null,
      "outputs": []
    },
    {
      "cell_type": "code",
      "metadata": {
        "id": "GH73jDaCtvkv"
      },
      "source": [
        "NUM_FEATURES_TO_KEEP = 300 + 2\n",
        "correlation = primary_station_df.corr(method='pearson')\n",
        "highest_correlation = (correlation.nlargest(NUM_FEATURES_TO_KEEP, 'FIRE_SIZE').index)\n",
        "print(f\"TOP {NUM_FEATURES_TO_KEEP} FEATURES WITH HIGHEST CORRELATION TO FIRE SIZE\")\n",
        "print(list(highest_correlation))\n",
        "\n",
        "print(f\"TOP 10 FEATURES WITH HIGHEST CORRELATION TO FIRE SIZE\")\n",
        "display(highest_correlation[2:12])\n",
        "display(correlation.nlargest(NUM_FEATURES_TO_KEEP, 'FIRE_SIZE')[2:12][\"FIRE_SIZE\"]) \n",
        "\n",
        "fire_size_prediction_df = primary_station_df[highest_correlation]\n",
        "del fire_size_prediction_df[\"FIRE_SIZE\"]\n",
        "del fire_size_prediction_df[\"DURATION\"]"
      ],
      "execution_count": null,
      "outputs": []
    },
    {
      "cell_type": "code",
      "metadata": {
        "id": "-HcDBCJ_TdJJ"
      },
      "source": [
        "display(fire_size_prediction_df)"
      ],
      "execution_count": null,
      "outputs": []
    },
    {
      "cell_type": "code",
      "metadata": {
        "id": "JFB2s-NLt5DR"
      },
      "source": [
        "NUM_FEATURES_TO_KEEP = 300 + 2\n",
        "correlation = primary_station_df.corr(method='pearson')\n",
        "highest_correlation = (correlation.nlargest(NUM_FEATURES_TO_KEEP, 'DURATION').index)\n",
        "print(f\"TOP {NUM_FEATURES_TO_KEEP} FEATURES WITH HIGHEST CORRELATION TO FIRE DURATION\")\n",
        "display(highest_correlation) \n",
        "\n",
        "print(f\"TOP 10 FEATURES WITH HIGHEST CORRELATION TO FIRE DURATION\")\n",
        "display(highest_correlation[2:12]) \n",
        "display(correlation.nlargest(NUM_FEATURES_TO_KEEP, 'DURATION')[2:12][\"DURATION\"])\n",
        "\n",
        "fire_duration_prediction_df = primary_station_df[highest_correlation]\n",
        "del fire_duration_prediction_df[\"FIRE_SIZE\"]\n",
        "del fire_duration_prediction_df[\"DURATION\"]"
      ],
      "execution_count": null,
      "outputs": []
    },
    {
      "cell_type": "code",
      "metadata": {
        "id": "q6AtO6yvTgZ1"
      },
      "source": [
        "display(fire_duration_prediction_df)"
      ],
      "execution_count": null,
      "outputs": []
    },
    {
      "cell_type": "code",
      "metadata": {
        "id": "8Qu9eeXlXnFx"
      },
      "source": [
        "closest_df = pd.DataFrame()\n",
        "\n",
        "for col in closest:\n",
        "  closest_df[col] = numerical[col]"
      ],
      "execution_count": null,
      "outputs": []
    },
    {
      "cell_type": "code",
      "metadata": {
        "id": "Ox2UyDyHX1RZ"
      },
      "source": [
        "closest_df.head()"
      ],
      "execution_count": null,
      "outputs": []
    },
    {
      "cell_type": "markdown",
      "metadata": {
        "id": "rYvWP-Ur7jPL"
      },
      "source": [
        "# Model 1: Linear Regression"
      ]
    },
    {
      "cell_type": "code",
      "metadata": {
        "id": "zVGbACLb8UCf"
      },
      "source": [
        "from sklearn.model_selection import train_test_split\n",
        "from sklearn.metrics import mean_absolute_error, mean_absolute_percentage_error, median_absolute_error, r2_score\n",
        "from sklearn.metrics import explained_variance_score\n",
        "from sklearn import svm\n",
        "from sklearn.preprocessing import PowerTransformer\n",
        "from sklearn.ensemble import RandomForestRegressor\n",
        "\n",
        "# def log_transform(column):\n",
        "#   \"\"\"\n",
        "#   Transforms a feature so that it is scaled logarithmically. Useful for correcting floating point errors\n",
        "#   \"\"\"\n",
        "  \n",
        "\n",
        "# def min_max_transform(column):\n",
        "#   \"\"\"\n",
        "#   Transforms a feature using min-max scaling\n",
        "#   \"\"\"\n",
        "#   pass\n",
        "\n",
        "def run_full_linear_regression_with_accuracy(features, response, n_highest = 0):\n",
        "  print(f\"Response Minimum: {response.min()}\")\n",
        "  print(f\"Response Maximum: {response.max()}\")\n",
        "\n",
        "  model = LinearRegression()  \n",
        "  # Split into test and training set\n",
        "  X_train, X_test, y_train, y_test = train_test_split(features, response, test_size=0.2, random_state=2020)\n",
        "  model.fit(X_train, y_train)\n",
        "\n",
        "  training_predictions = model.predict(X_train)\n",
        "  test_predictions = model.predict(X_test)\n",
        "  print(f\"Linear Regression Coefficients: { model.coef_ }\\nLinear Regression Intercept: { model.intercept_}\\n\")\n",
        "\n",
        "  print(\"Training: mean absolute error: \", mean_absolute_error(y_train, training_predictions))\n",
        "  print(\"Test mean absolute error: \", mean_absolute_error(y_test, test_predictions))\n",
        "  \n",
        "  print(\"Training average error rate: \", median_absolute_error(y_train, training_predictions))\n",
        "  print(\"Test average error rate: \", median_absolute_error(y_test, test_predictions))\n",
        "  \n",
        "  print(\"Explained variance in training set is: \", explained_variance_score(y_train, training_predictions))\n",
        "  print(\"Explained variance in test set is: \", explained_variance_score(y_test, test_predictions))\n",
        "\n",
        "  print(\"R2 Score training set: \", r2_score(y_train, training_predictions))\n",
        "  print(\"R2 Score testing set: \", r2_score(y_test, test_predictions))\n",
        "\n",
        "  fig = plt.figure()\n",
        "  ax1 = fig.add_subplot()\n",
        "  ax1.set_xlabel(\"True Value from Test Set\")\n",
        "  ax1.set_ylabel('Prediction from Test Set')\n",
        "  ax1.set_title('True Value vs Predicted Value for Test Set: Linear Regression')\n",
        "  ax1.scatter(y_test, test_predictions)\n",
        "  plt.show()\n",
        "\n",
        "  # Residual plot against predictor\n",
        "  fig = plt.figure()\n",
        "  ax1 = fig.add_subplot()\n",
        "  ax1.set_xlabel(\"Test Set Prediction\")\n",
        "  ax1.set_ylabel('Residuals from Test Set')\n",
        "  ax1.set_title('Residual Graph: Linear Regression')\n",
        "  ax1.scatter(test_predictions, y_test - test_predictions)\n",
        "  plt.show()\n",
        "\n",
        "\n",
        "\n",
        "def run_full_ridge_regression_with_accuracy(features, response, n_highest = 0):\n",
        "  print(f\"Response Minimum: {response.min()}\")\n",
        "  print(f\"Response Maximum: {response.max()}\")\n",
        "\n",
        "  \n",
        "  model = Ridge()\n",
        "  # Split into test and training set\n",
        "  X_train, X_test, y_train, y_test = train_test_split(features, response, test_size=0.2, random_state=2020)\n",
        "  model.fit(X_train, y_train)\n",
        "\n",
        "  training_predictions = model.predict(X_train)\n",
        "  test_predictions = model.predict(X_test)\n",
        "  print(f\"Ridge Regression Coefficients: { model.coef_ }\\Ridge Regression Intercept: { model.intercept_}\\n\")\n",
        "\n",
        "  print(\"Training: mean absolute error: \", mean_absolute_error(y_train, training_predictions))\n",
        "  print(\"Test mean absolute error: \", mean_absolute_error(y_test, test_predictions))\n",
        "  \n",
        "  print(\"Training average error rate: \", median_absolute_error(y_train, training_predictions))\n",
        "  print(\"Test average error rate: \", median_absolute_error(y_test, test_predictions))\n",
        "  \n",
        "  print(\"Explained variance in training set is: \", explained_variance_score(y_train, training_predictions))\n",
        "  print(\"Explained variance in test set is: \", explained_variance_score(y_test, test_predictions))\n",
        "\n",
        "  print(\"R2 Score training set: \", r2_score(y_train, training_predictions))\n",
        "  print(\"R2 Score testing set: \", r2_score(y_test, test_predictions))\n",
        "\n",
        "  fig = plt.figure()\n",
        "  ax1 = fig.add_subplot()\n",
        "  ax1.set_xlabel(\"True Value from Test Set\")\n",
        "  ax1.set_ylabel('Prediction from Test Set')\n",
        "  ax1.set_title('True Value vs Predicted Value for Test Set: Ridge Regression')\n",
        "  ax1.scatter(y_test, test_predictions)\n",
        "  plt.show()\n",
        "\n",
        "  # Residual plot against predictor\n",
        "  fig = plt.figure()\n",
        "  ax1 = fig.add_subplot()\n",
        "  ax1.set_xlabel(\"Test Set Prediction\")\n",
        "  ax1.set_ylabel('Residuals from Test Set')\n",
        "  ax1.set_title('Residual Graph: Ridge Regression')\n",
        "  ax1.scatter(test_predictions, y_test - test_predictions)\n",
        "  plt.show()\n",
        "\n",
        "def run_full_SVM_regression_with_accuracy(features, response, n_highest = 0):\n",
        "  print(f\"Response Minimum: {response.min()}\")\n",
        "  print(f\"Response Maximum: {response.max()}\")\n",
        "\n",
        "  \n",
        "  model = svm.SVR()\n",
        "  # Split into test and training set\n",
        "  X_train, X_test, y_train, y_test = train_test_split(features, response, test_size=0.2, random_state=2020)\n",
        "  model.fit(X_train, y_train)\n",
        "\n",
        "  training_predictions = model.predict(X_train)\n",
        "  test_predictions = model.predict(X_test)\n",
        "\n",
        "  print(\"Training: mean absolute error: \", mean_absolute_error(y_train, training_predictions))\n",
        "  print(\"Test mean absolute error: \", mean_absolute_error(y_test, test_predictions))\n",
        "  \n",
        "  print(\"Training average error rate: \", median_absolute_error(y_train, training_predictions))\n",
        "  print(\"Test average error rate: \", median_absolute_error(y_test, test_predictions))\n",
        "  \n",
        "  print(\"Explained variance in training set is: \", explained_variance_score(y_train, training_predictions))\n",
        "  print(\"Explained variance in test set is: \", explained_variance_score(y_test, test_predictions))\n",
        "\n",
        "  fig = plt.figure()\n",
        "  ax1 = fig.add_subplot()\n",
        "  ax1.set_xlabel(\"True Value from Test Set\")\n",
        "  ax1.set_ylabel('Prediction from Test Set')\n",
        "  ax1.set_title('True Value vs Predicted Value for Test Set: SVM Regression')\n",
        "  ax1.scatter(y_test, test_predictions)\n",
        "  plt.show()\n",
        "\n",
        "  # Residual plot against predictor\n",
        "  fig = plt.figure()\n",
        "  ax1 = fig.add_subplot()\n",
        "  ax1.set_xlabel(\"Test Set Prediction\")\n",
        "  ax1.set_ylabel('Residuals from Test Set')\n",
        "  ax1.set_title('Residual Graph: SVM Regression')\n",
        "  ax1.scatter(test_predictions, y_test - test_predictions)\n",
        "  plt.show()\n",
        "\n",
        "def run_full_random_forest_regression_with_accuracy(features, response, n_highest = 0):\n",
        "  print(f\"Response Minimum: {response.min()}\")\n",
        "  print(f\"Response Maximum: {response.max()}\")\n",
        "\n",
        "  \n",
        "  model = RandomForestRegressor(n_estimators=100)\n",
        "  # Split into test and training set\n",
        "  X_train, X_test, y_train, y_test = train_test_split(features, response, test_size=0.2, random_state=2020)\n",
        "  model.fit(X_train, y_train)\n",
        "\n",
        "  training_predictions = model.predict(X_train)\n",
        "  test_predictions = model.predict(X_test)\n",
        "\n",
        "  print(\"Training: mean absolute error: \", mean_absolute_error(y_train, training_predictions))\n",
        "  print(\"Test mean absolute error: \", mean_absolute_error(y_test, test_predictions))\n",
        "  \n",
        "  print(\"Training average error rate: \", median_absolute_error(y_train, training_predictions))\n",
        "  print(\"Test average error rate: \", median_absolute_error(y_test, test_predictions))\n",
        "  \n",
        "  print(\"Explained variance in training set is: \", explained_variance_score(y_train, training_predictions))\n",
        "  print(\"Explained variance in test set is: \", explained_variance_score(y_test, test_predictions))\n",
        "\n",
        "  fig = plt.figure()\n",
        "  ax1 = fig.add_subplot()\n",
        "  ax1.set_xlabel(\"True Value from Test Set\")\n",
        "  ax1.set_ylabel('Prediction from Test Set')\n",
        "  ax1.set_title('True Value vs Predicted Value for Test Set: Random Forest Regression')\n",
        "  ax1.scatter(y_test, test_predictions)\n",
        "  plt.show()\n",
        "\n",
        "  fig = plt.figure()\n",
        "  \n",
        "  ax1 = fig.add_subplot()\n",
        "  ax1.set_xlabel(\"True Value from Training Set\")\n",
        "  ax1.set_ylabel('Prediction from Training Set')\n",
        "  ax1.set_title('True Value vs Predicted Value for Training Set: Random Forest Regression')\n",
        "  ax1.scatter(y_train, training_predictions)\n",
        "  plt.show()\n",
        "\n",
        "  # Residual plot against predictor\n",
        "  fig = plt.figure()\n",
        "  ax1 = fig.add_subplot()\n",
        "  ax1.set_xlabel(\"Test Set Prediction\")\n",
        "  ax1.set_ylabel('Residuals from Test Set')\n",
        "  ax1.set_title('Residual Graph: Random Forest')\n",
        "  ax1.scatter(test_predictions, y_test - test_predictions)\n",
        "  plt.show()"
      ],
      "execution_count": null,
      "outputs": []
    },
    {
      "cell_type": "code",
      "metadata": {
        "id": "fS1eXhjE0lx3"
      },
      "source": [
        "SUBSET = -1"
      ],
      "execution_count": null,
      "outputs": []
    },
    {
      "cell_type": "markdown",
      "metadata": {
        "id": "gUQSTYQH9ptA"
      },
      "source": [
        "## Fire Size Prediction using Linear Regression and Ridge Regression\n",
        "\n",
        "Here, we predict the size of a fire using linear regression"
      ]
    },
    {
      "cell_type": "code",
      "metadata": {
        "id": "PtDRXOzUwyc6"
      },
      "source": [
        "FIRE_SIZE = numerical[\"FIRE_SIZE\"]\n",
        "FIRE_SIZE.hist()"
      ],
      "execution_count": null,
      "outputs": []
    },
    {
      "cell_type": "code",
      "metadata": {
        "id": "UqbpKxf37_XA"
      },
      "source": [
        "log_fire_size = pd.DataFrame(np.log(FIRE_SIZE))\n",
        "log_fire_size = log_fire_size.replace([np.inf, -np.inf], np.nan)\n",
        "log_fire_size = log_fire_size.fillna(0)\n",
        "log_fire_size = (log_fire_size - log_fire_size.mean()) / log_fire_size.std()\n",
        "log_fire_size.hist()\n",
        "plt.show()\n",
        "\n",
        "# run_full_linear_regression_with_accuracy(fire_size_prediction_df[:SUBSET], log_fire_size[:SUBSET])\n",
        "run_full_ridge_regression_with_accuracy(fire_size_prediction_df[:SUBSET], log_fire_size[:SUBSET])"
      ],
      "execution_count": null,
      "outputs": []
    },
    {
      "cell_type": "markdown",
      "metadata": {
        "id": "VXRlI47ptSkB"
      },
      "source": [
        "LINEAR REGRESSION and RIDGE REGRESSION for Summer Months"
      ]
    },
    {
      "cell_type": "code",
      "metadata": {
        "id": "iWp_ZSloqVRg"
      },
      "source": [
        "# LINEAR REGRESSION FOR SUMMER MONTHS \n",
        "log_fire_size = pd.DataFrame(np.log(FIRE_SIZE))\n",
        "log_fire_size = log_fire_size.replace([np.inf, -np.inf], np.nan)\n",
        "log_fire_size = log_fire_size.fillna(0)\n",
        "log_fire_size = (log_fire_size - log_fire_size.mean()) / log_fire_size.std()\n",
        "log_fire_size.hist()\n",
        "plt.show()\n",
        "\n",
        "#x = 11\n",
        "# x = 6\n",
        "# x = 1\n",
        "summer_fires = ((cleaned['DISCOVERY_MONTH'] >= 5) & (cleaned['DISCOVERY_MONTH'] <= 8))\n",
        "summer_fires_log_size = log_fire_size[summer_fires]\n",
        "summer_fires_df = fire_size_prediction_df[summer_fires]\n",
        "print(len(summer_fires_log_size))\n",
        "\n",
        "run_full_linear_regression_with_accuracy(summer_fires_df, summer_fires_log_size)\n",
        "run_full_ridge_regression_with_accuracy(summer_fires_df, summer_fires_log_size)"
      ],
      "execution_count": null,
      "outputs": []
    },
    {
      "cell_type": "markdown",
      "metadata": {
        "id": "qXwg3AJmyqXs"
      },
      "source": [
        "## Fire Duration Prediction using Linear Regression and Ridge Regression\n",
        "\n",
        "Here, we predict the duration of a fire using linear regression"
      ]
    },
    {
      "cell_type": "code",
      "metadata": {
        "id": "wB0UYfFSywqO"
      },
      "source": [
        "FIRE_DURATION = numerical[\"DURATION\"]\n",
        "FIRE_DURATION.hist()"
      ],
      "execution_count": null,
      "outputs": []
    },
    {
      "cell_type": "code",
      "metadata": {
        "id": "pBdQQPYZy-nu"
      },
      "source": [
        "log_fire_duration = pd.DataFrame(np.log(FIRE_DURATION))\n",
        "log_fire_duration = log_fire_duration.replace([np.inf, -np.inf], np.nan)\n",
        "log_fire_duration = log_fire_duration.fillna(0)\n",
        "log_fire_duration = (log_fire_duration - log_fire_duration.mean()) / log_fire_duration.std()\n",
        "log_fire_duration.hist()\n",
        "plt.show()\n",
        "\n",
        "# run_full_linear_regression_with_accuracy(fire_duration_prediction_df[:SUBSET], log_fire_duration[:SUBSET])\n",
        "run_full_ridge_regression_with_accuracy(fire_duration_prediction_df[:SUBSET], log_fire_duration[:SUBSET])\n"
      ],
      "execution_count": null,
      "outputs": []
    },
    {
      "cell_type": "code",
      "metadata": {
        "colab": {
          "background_save": true,
          "base_uri": "https://localhost:8080/"
        },
        "id": "jf7o8SRMYWrd",
        "outputId": "4985b057-73af-457c-c9f3-f787c48a16cb"
      },
      "source": [
        "run_full_random_forest_regression_with_accuracy(fire_duration_prediction_df[:SUBSET], log_fire_duration[:SUBSET])"
      ],
      "execution_count": null,
      "outputs": [
        {
          "name": "stdout",
          "output_type": "stream",
          "text": [
            "Response Minimum: DURATION   -0.214565\n",
            "dtype: float64\n",
            "Response Maximum: DURATION    11.92416\n",
            "dtype: float64\n"
          ]
        },
        {
          "name": "stderr",
          "output_type": "stream",
          "text": [
            "/usr/local/lib/python3.7/dist-packages/ipykernel_launcher.py:154: DataConversionWarning: A column-vector y was passed when a 1d array was expected. Please change the shape of y to (n_samples,), for example using ravel().\n"
          ]
        },
        {
          "name": "stdout",
          "output_type": "stream",
          "text": [
            "Training: mean absolute error:  0.11754670591465904\n",
            "Test mean absolute error:  0.32449745615517356\n",
            "Training average error rate:  1.2490009027033011e-15\n",
            "Test average error rate:  0.04173831202560002\n",
            "Explained variance in training set is:  0.8867669076109592\n",
            "Explained variance in test set is:  0.22634597507339815\n"
          ]
        },
        {
          "data": {
            "image/png": "[encoded data removed]",
            "text/plain": [
              "<Figure size 432x288 with 1 Axes>"
            ]
          },
          "metadata": {},
          "output_type": "display_data"
        },
        {
          "data": {
            "image/png": "[encoded data removed]",
            "text/plain": [
              "<Figure size 432x288 with 1 Axes>"
            ]
          },
          "metadata": {},
          "output_type": "display_data"
        },
        {
          "ename": "ValueError",
          "evalue": "ignored",
          "output_type": "error",
          "traceback": [
            "\u001b[0;31m---------------------------------------------------------------------------\u001b[0m",
            "\u001b[0;31mValueError\u001b[0m                                Traceback (most recent call last)",
            "\u001b[0;32m<ipython-input-31-f1646410162a>\u001b[0m in \u001b[0;36m<module>\u001b[0;34m()\u001b[0m\n\u001b[0;32m----> 1\u001b[0;31m \u001b[0mrun_full_random_forest_regression_with_accuracy\u001b[0m\u001b[0;34m(\u001b[0m\u001b[0mfire_duration_prediction_df\u001b[0m\u001b[0;34m[\u001b[0m\u001b[0;34m:\u001b[0m\u001b[0mSUBSET\u001b[0m\u001b[0;34m]\u001b[0m\u001b[0;34m,\u001b[0m \u001b[0mlog_fire_duration\u001b[0m\u001b[0;34m[\u001b[0m\u001b[0;34m:\u001b[0m\u001b[0mSUBSET\u001b[0m\u001b[0;34m]\u001b[0m\u001b[0;34m)\u001b[0m\u001b[0;34m\u001b[0m\u001b[0;34m\u001b[0m\u001b[0m\n\u001b[0m",
            "\u001b[0;32m<ipython-input-24-5b1e2fee45f8>\u001b[0m in \u001b[0;36mrun_full_random_forest_regression_with_accuracy\u001b[0;34m(features, response, n_highest)\u001b[0m\n\u001b[1;32m    189\u001b[0m   \u001b[0max1\u001b[0m\u001b[0;34m.\u001b[0m\u001b[0mset_ylabel\u001b[0m\u001b[0;34m(\u001b[0m\u001b[0;34m'Residuals from Test Set'\u001b[0m\u001b[0;34m)\u001b[0m\u001b[0;34m\u001b[0m\u001b[0;34m\u001b[0m\u001b[0m\n\u001b[1;32m    190\u001b[0m   \u001b[0max1\u001b[0m\u001b[0;34m.\u001b[0m\u001b[0mset_title\u001b[0m\u001b[0;34m(\u001b[0m\u001b[0;34m'Residual Graph: Random Forest'\u001b[0m\u001b[0;34m)\u001b[0m\u001b[0;34m\u001b[0m\u001b[0;34m\u001b[0m\u001b[0m\n\u001b[0;32m--> 191\u001b[0;31m   \u001b[0max1\u001b[0m\u001b[0;34m.\u001b[0m\u001b[0mscatter\u001b[0m\u001b[0;34m(\u001b[0m\u001b[0mtest_predictions\u001b[0m\u001b[0;34m,\u001b[0m \u001b[0my_test\u001b[0m \u001b[0;34m-\u001b[0m \u001b[0mtest_predictions\u001b[0m\u001b[0;34m)\u001b[0m\u001b[0;34m\u001b[0m\u001b[0;34m\u001b[0m\u001b[0m\n\u001b[0m\u001b[1;32m    192\u001b[0m   \u001b[0mplt\u001b[0m\u001b[0;34m.\u001b[0m\u001b[0mshow\u001b[0m\u001b[0;34m(\u001b[0m\u001b[0;34m)\u001b[0m\u001b[0;34m\u001b[0m\u001b[0;34m\u001b[0m\u001b[0m\n",
            "\u001b[0;32m/usr/local/lib/python3.7/dist-packages/pandas/core/ops/__init__.py\u001b[0m in \u001b[0;36mf\u001b[0;34m(self, other, axis, level, fill_value)\u001b[0m\n\u001b[1;32m    649\u001b[0m         \u001b[0;31m# TODO: why are we passing flex=True instead of flex=not special?\u001b[0m\u001b[0;34m\u001b[0m\u001b[0;34m\u001b[0m\u001b[0;34m\u001b[0m\u001b[0m\n\u001b[1;32m    650\u001b[0m         \u001b[0;31m#  15 tests fail if we pass flex=not special instead\u001b[0m\u001b[0;34m\u001b[0m\u001b[0;34m\u001b[0m\u001b[0;34m\u001b[0m\u001b[0m\n\u001b[0;32m--> 651\u001b[0;31m         \u001b[0mself\u001b[0m\u001b[0;34m,\u001b[0m \u001b[0mother\u001b[0m \u001b[0;34m=\u001b[0m \u001b[0m_align_method_FRAME\u001b[0m\u001b[0;34m(\u001b[0m\u001b[0mself\u001b[0m\u001b[0;34m,\u001b[0m \u001b[0mother\u001b[0m\u001b[0;34m,\u001b[0m \u001b[0maxis\u001b[0m\u001b[0;34m,\u001b[0m \u001b[0mflex\u001b[0m\u001b[0;34m=\u001b[0m\u001b[0;32mTrue\u001b[0m\u001b[0;34m,\u001b[0m \u001b[0mlevel\u001b[0m\u001b[0;34m=\u001b[0m\u001b[0mlevel\u001b[0m\u001b[0;34m)\u001b[0m\u001b[0;34m\u001b[0m\u001b[0;34m\u001b[0m\u001b[0m\n\u001b[0m\u001b[1;32m    652\u001b[0m \u001b[0;34m\u001b[0m\u001b[0m\n\u001b[1;32m    653\u001b[0m         \u001b[0;32mif\u001b[0m \u001b[0misinstance\u001b[0m\u001b[0;34m(\u001b[0m\u001b[0mother\u001b[0m\u001b[0;34m,\u001b[0m \u001b[0mABCDataFrame\u001b[0m\u001b[0;34m)\u001b[0m\u001b[0;34m:\u001b[0m\u001b[0;34m\u001b[0m\u001b[0;34m\u001b[0m\u001b[0m\n",
            "\u001b[0;32m/usr/local/lib/python3.7/dist-packages/pandas/core/ops/__init__.py\u001b[0m in \u001b[0;36m_align_method_FRAME\u001b[0;34m(left, right, axis, flex, level)\u001b[0m\n\u001b[1;32m    472\u001b[0m \u001b[0;34m\u001b[0m\u001b[0m\n\u001b[1;32m    473\u001b[0m         \u001b[0;32mif\u001b[0m \u001b[0mright\u001b[0m\u001b[0;34m.\u001b[0m\u001b[0mndim\u001b[0m \u001b[0;34m==\u001b[0m \u001b[0;36m1\u001b[0m\u001b[0;34m:\u001b[0m\u001b[0;34m\u001b[0m\u001b[0;34m\u001b[0m\u001b[0m\n\u001b[0;32m--> 474\u001b[0;31m             \u001b[0mright\u001b[0m \u001b[0;34m=\u001b[0m \u001b[0mto_series\u001b[0m\u001b[0;34m(\u001b[0m\u001b[0mright\u001b[0m\u001b[0;34m)\u001b[0m\u001b[0;34m\u001b[0m\u001b[0;34m\u001b[0m\u001b[0m\n\u001b[0m\u001b[1;32m    475\u001b[0m \u001b[0;34m\u001b[0m\u001b[0m\n\u001b[1;32m    476\u001b[0m         \u001b[0;32melif\u001b[0m \u001b[0mright\u001b[0m\u001b[0;34m.\u001b[0m\u001b[0mndim\u001b[0m \u001b[0;34m==\u001b[0m \u001b[0;36m2\u001b[0m\u001b[0;34m:\u001b[0m\u001b[0;34m\u001b[0m\u001b[0;34m\u001b[0m\u001b[0m\n",
            "\u001b[0;32m/usr/local/lib/python3.7/dist-packages/pandas/core/ops/__init__.py\u001b[0m in \u001b[0;36mto_series\u001b[0;34m(right)\u001b[0m\n\u001b[1;32m    464\u001b[0m             \u001b[0;32mif\u001b[0m \u001b[0mlen\u001b[0m\u001b[0;34m(\u001b[0m\u001b[0mleft\u001b[0m\u001b[0;34m.\u001b[0m\u001b[0mcolumns\u001b[0m\u001b[0;34m)\u001b[0m \u001b[0;34m!=\u001b[0m \u001b[0mlen\u001b[0m\u001b[0;34m(\u001b[0m\u001b[0mright\u001b[0m\u001b[0;34m)\u001b[0m\u001b[0;34m:\u001b[0m\u001b[0;34m\u001b[0m\u001b[0;34m\u001b[0m\u001b[0m\n\u001b[1;32m    465\u001b[0m                 raise ValueError(\n\u001b[0;32m--> 466\u001b[0;31m                     \u001b[0mmsg\u001b[0m\u001b[0;34m.\u001b[0m\u001b[0mformat\u001b[0m\u001b[0;34m(\u001b[0m\u001b[0mreq_len\u001b[0m\u001b[0;34m=\u001b[0m\u001b[0mlen\u001b[0m\u001b[0;34m(\u001b[0m\u001b[0mleft\u001b[0m\u001b[0;34m.\u001b[0m\u001b[0mcolumns\u001b[0m\u001b[0;34m)\u001b[0m\u001b[0;34m,\u001b[0m \u001b[0mgiven_len\u001b[0m\u001b[0;34m=\u001b[0m\u001b[0mlen\u001b[0m\u001b[0;34m(\u001b[0m\u001b[0mright\u001b[0m\u001b[0;34m)\u001b[0m\u001b[0;34m)\u001b[0m\u001b[0;34m\u001b[0m\u001b[0;34m\u001b[0m\u001b[0m\n\u001b[0m\u001b[1;32m    467\u001b[0m                 )\n\u001b[1;32m    468\u001b[0m             \u001b[0mright\u001b[0m \u001b[0;34m=\u001b[0m \u001b[0mleft\u001b[0m\u001b[0;34m.\u001b[0m\u001b[0m_constructor_sliced\u001b[0m\u001b[0;34m(\u001b[0m\u001b[0mright\u001b[0m\u001b[0;34m,\u001b[0m \u001b[0mindex\u001b[0m\u001b[0;34m=\u001b[0m\u001b[0mleft\u001b[0m\u001b[0;34m.\u001b[0m\u001b[0mcolumns\u001b[0m\u001b[0;34m)\u001b[0m\u001b[0;34m\u001b[0m\u001b[0;34m\u001b[0m\u001b[0m\n",
            "\u001b[0;31mValueError\u001b[0m: Unable to coerce to Series, length must be 1: given 17421"
          ]
        },
        {
          "data": {
            "image/png": "[encoded data removed]",
            "text/plain": [
              "<Figure size 432x288 with 1 Axes>"
            ]
          },
          "metadata": {},
          "output_type": "display_data"
        }
      ]
    },
    {
      "cell_type": "markdown",
      "metadata": {
        "id": "MiVyPttNOfpJ"
      },
      "source": [
        "## Random Forest Regression FIRE_SIZE"
      ]
    },
    {
      "cell_type": "code",
      "metadata": {
        "colab": {
          "base_uri": "https://localhost:8080/",
          "height": 697
        },
        "id": "S44z8HAaOlbH",
        "outputId": "63f15fc4-c7cd-4869-f332-6eb03bdcff30"
      },
      "source": [
        "log_fire_size = pd.DataFrame(np.log(FIRE_SIZE))\n",
        "log_fire_size = log_fire_size.replace([np.inf, -np.inf], np.nan)\n",
        "log_fire_size = log_fire_size.fillna(0)\n",
        "log_fire_size = (log_fire_size - log_fire_size.mean()) / log_fire_size.std()\n",
        "log_fire_size.hist()\n",
        "plt.show()\n",
        "\n",
        "# run_full_SVM_regression_with_accuracy(fire_size_prediction_df[:SUBSET], log_fire_size[:SUBSET])\n",
        "run_full_random_forest_regression_with_accuracy(fire_size_prediction_df[:-1], log_fire_size[:-1])\n"
      ],
      "execution_count": null,
      "outputs": [
        {
          "data": {
            "image/png": "[encoded data removed]",
            "text/plain": [
              "<Figure size 432x288 with 1 Axes>"
            ]
          },
          "metadata": {},
          "output_type": "display_data"
        },
        {
          "name": "stdout",
          "output_type": "stream",
          "text": [
            "Response Minimum: FIRE_SIZE   -1.698422\n",
            "dtype: float64\n",
            "Response Maximum: FIRE_SIZE    6.638909\n",
            "dtype: float64\n"
          ]
        },
        {
          "name": "stderr",
          "output_type": "stream",
          "text": [
            "/usr/local/lib/python3.7/dist-packages/ipykernel_launcher.py:173: DataConversionWarning: A column-vector y was passed when a 1d array was expected. Please change the shape of y to (n_samples,), for example using ravel().\n"
          ]
        },
        {
          "ename": "KeyboardInterrupt",
          "evalue": "ignored",
          "output_type": "error",
          "traceback": [
            "\u001b[0;31m---------------------------------------------------------------------------\u001b[0m",
            "\u001b[0;31mKeyboardInterrupt\u001b[0m                         Traceback (most recent call last)",
            "\u001b[0;32m<ipython-input-30-f49f4398cab1>\u001b[0m in \u001b[0;36m<module>\u001b[0;34m()\u001b[0m\n\u001b[1;32m      7\u001b[0m \u001b[0;34m\u001b[0m\u001b[0m\n\u001b[1;32m      8\u001b[0m \u001b[0;31m# run_full_SVM_regression_with_accuracy(fire_size_prediction_df[:SUBSET], log_fire_size[:SUBSET])\u001b[0m\u001b[0;34m\u001b[0m\u001b[0;34m\u001b[0m\u001b[0;34m\u001b[0m\u001b[0m\n\u001b[0;32m----> 9\u001b[0;31m \u001b[0mrun_full_random_forest_regression_with_accuracy\u001b[0m\u001b[0;34m(\u001b[0m\u001b[0mfire_size_prediction_df\u001b[0m\u001b[0;34m[\u001b[0m\u001b[0;34m:\u001b[0m\u001b[0;34m-\u001b[0m\u001b[0;36m1\u001b[0m\u001b[0;34m]\u001b[0m\u001b[0;34m,\u001b[0m \u001b[0mlog_fire_size\u001b[0m\u001b[0;34m[\u001b[0m\u001b[0;34m:\u001b[0m\u001b[0;34m-\u001b[0m\u001b[0;36m1\u001b[0m\u001b[0;34m]\u001b[0m\u001b[0;34m)\u001b[0m\u001b[0;34m\u001b[0m\u001b[0;34m\u001b[0m\u001b[0m\n\u001b[0m",
            "\u001b[0;32m<ipython-input-23-707510dc285d>\u001b[0m in \u001b[0;36mrun_full_random_forest_regression_with_accuracy\u001b[0;34m(features, response, n_highest)\u001b[0m\n\u001b[1;32m    171\u001b[0m   \u001b[0;31m# Split into test and training set\u001b[0m\u001b[0;34m\u001b[0m\u001b[0;34m\u001b[0m\u001b[0;34m\u001b[0m\u001b[0m\n\u001b[1;32m    172\u001b[0m   \u001b[0mX_train\u001b[0m\u001b[0;34m,\u001b[0m \u001b[0mX_test\u001b[0m\u001b[0;34m,\u001b[0m \u001b[0my_train\u001b[0m\u001b[0;34m,\u001b[0m \u001b[0my_test\u001b[0m \u001b[0;34m=\u001b[0m \u001b[0mtrain_test_split\u001b[0m\u001b[0;34m(\u001b[0m\u001b[0mfeatures\u001b[0m\u001b[0;34m,\u001b[0m \u001b[0mresponse\u001b[0m\u001b[0;34m,\u001b[0m \u001b[0mtest_size\u001b[0m\u001b[0;34m=\u001b[0m\u001b[0;36m0.2\u001b[0m\u001b[0;34m,\u001b[0m \u001b[0mrandom_state\u001b[0m\u001b[0;34m=\u001b[0m\u001b[0;36m2020\u001b[0m\u001b[0;34m)\u001b[0m\u001b[0;34m\u001b[0m\u001b[0;34m\u001b[0m\u001b[0m\n\u001b[0;32m--> 173\u001b[0;31m   \u001b[0mmodel\u001b[0m\u001b[0;34m.\u001b[0m\u001b[0mfit\u001b[0m\u001b[0;34m(\u001b[0m\u001b[0mX_train\u001b[0m\u001b[0;34m,\u001b[0m \u001b[0my_train\u001b[0m\u001b[0;34m)\u001b[0m\u001b[0;34m\u001b[0m\u001b[0;34m\u001b[0m\u001b[0m\n\u001b[0m\u001b[1;32m    174\u001b[0m \u001b[0;34m\u001b[0m\u001b[0m\n\u001b[1;32m    175\u001b[0m   \u001b[0mtraining_predictions\u001b[0m \u001b[0;34m=\u001b[0m \u001b[0mmodel\u001b[0m\u001b[0;34m.\u001b[0m\u001b[0mpredict\u001b[0m\u001b[0;34m(\u001b[0m\u001b[0mX_train\u001b[0m\u001b[0;34m)\u001b[0m\u001b[0;34m\u001b[0m\u001b[0;34m\u001b[0m\u001b[0m\n",
            "\u001b[0;32m/usr/local/lib/python3.7/dist-packages/sklearn/ensemble/_forest.py\u001b[0m in \u001b[0;36mfit\u001b[0;34m(self, X, y, sample_weight)\u001b[0m\n\u001b[1;32m    457\u001b[0m                     \u001b[0mn_samples_bootstrap\u001b[0m\u001b[0;34m=\u001b[0m\u001b[0mn_samples_bootstrap\u001b[0m\u001b[0;34m,\u001b[0m\u001b[0;34m\u001b[0m\u001b[0;34m\u001b[0m\u001b[0m\n\u001b[1;32m    458\u001b[0m                 )\n\u001b[0;32m--> 459\u001b[0;31m                 \u001b[0;32mfor\u001b[0m \u001b[0mi\u001b[0m\u001b[0;34m,\u001b[0m \u001b[0mt\u001b[0m \u001b[0;32min\u001b[0m \u001b[0menumerate\u001b[0m\u001b[0;34m(\u001b[0m\u001b[0mtrees\u001b[0m\u001b[0;34m)\u001b[0m\u001b[0;34m\u001b[0m\u001b[0;34m\u001b[0m\u001b[0m\n\u001b[0m\u001b[1;32m    460\u001b[0m             )\n\u001b[1;32m    461\u001b[0m \u001b[0;34m\u001b[0m\u001b[0m\n",
            "\u001b[0;32m/usr/local/lib/python3.7/dist-packages/joblib/parallel.py\u001b[0m in \u001b[0;36m__call__\u001b[0;34m(self, iterable)\u001b[0m\n\u001b[1;32m   1041\u001b[0m             \u001b[0;31m# remaining jobs.\u001b[0m\u001b[0;34m\u001b[0m\u001b[0;34m\u001b[0m\u001b[0;34m\u001b[0m\u001b[0m\n\u001b[1;32m   1042\u001b[0m             \u001b[0mself\u001b[0m\u001b[0;34m.\u001b[0m\u001b[0m_iterating\u001b[0m \u001b[0;34m=\u001b[0m \u001b[0;32mFalse\u001b[0m\u001b[0;34m\u001b[0m\u001b[0;34m\u001b[0m\u001b[0m\n\u001b[0;32m-> 1043\u001b[0;31m             \u001b[0;32mif\u001b[0m \u001b[0mself\u001b[0m\u001b[0;34m.\u001b[0m\u001b[0mdispatch_one_batch\u001b[0m\u001b[0;34m(\u001b[0m\u001b[0miterator\u001b[0m\u001b[0;34m)\u001b[0m\u001b[0;34m:\u001b[0m\u001b[0;34m\u001b[0m\u001b[0;34m\u001b[0m\u001b[0m\n\u001b[0m\u001b[1;32m   1044\u001b[0m                 \u001b[0mself\u001b[0m\u001b[0;34m.\u001b[0m\u001b[0m_iterating\u001b[0m \u001b[0;34m=\u001b[0m \u001b[0mself\u001b[0m\u001b[0;34m.\u001b[0m\u001b[0m_original_iterator\u001b[0m \u001b[0;32mis\u001b[0m \u001b[0;32mnot\u001b[0m \u001b[0;32mNone\u001b[0m\u001b[0;34m\u001b[0m\u001b[0;34m\u001b[0m\u001b[0m\n\u001b[1;32m   1045\u001b[0m \u001b[0;34m\u001b[0m\u001b[0m\n",
            "\u001b[0;32m/usr/local/lib/python3.7/dist-packages/joblib/parallel.py\u001b[0m in \u001b[0;36mdispatch_one_batch\u001b[0;34m(self, iterator)\u001b[0m\n\u001b[1;32m    859\u001b[0m                 \u001b[0;32mreturn\u001b[0m \u001b[0;32mFalse\u001b[0m\u001b[0;34m\u001b[0m\u001b[0;34m\u001b[0m\u001b[0m\n\u001b[1;32m    860\u001b[0m             \u001b[0;32melse\u001b[0m\u001b[0;34m:\u001b[0m\u001b[0;34m\u001b[0m\u001b[0;34m\u001b[0m\u001b[0m\n\u001b[0;32m--> 861\u001b[0;31m                 \u001b[0mself\u001b[0m\u001b[0;34m.\u001b[0m\u001b[0m_dispatch\u001b[0m\u001b[0;34m(\u001b[0m\u001b[0mtasks\u001b[0m\u001b[0;34m)\u001b[0m\u001b[0;34m\u001b[0m\u001b[0;34m\u001b[0m\u001b[0m\n\u001b[0m\u001b[1;32m    862\u001b[0m                 \u001b[0;32mreturn\u001b[0m \u001b[0;32mTrue\u001b[0m\u001b[0;34m\u001b[0m\u001b[0;34m\u001b[0m\u001b[0m\n\u001b[1;32m    863\u001b[0m \u001b[0;34m\u001b[0m\u001b[0m\n",
            "\u001b[0;32m/usr/local/lib/python3.7/dist-packages/joblib/parallel.py\u001b[0m in \u001b[0;36m_dispatch\u001b[0;34m(self, batch)\u001b[0m\n\u001b[1;32m    777\u001b[0m         \u001b[0;32mwith\u001b[0m \u001b[0mself\u001b[0m\u001b[0;34m.\u001b[0m\u001b[0m_lock\u001b[0m\u001b[0;34m:\u001b[0m\u001b[0;34m\u001b[0m\u001b[0;34m\u001b[0m\u001b[0m\n\u001b[1;32m    778\u001b[0m             \u001b[0mjob_idx\u001b[0m \u001b[0;34m=\u001b[0m \u001b[0mlen\u001b[0m\u001b[0;34m(\u001b[0m\u001b[0mself\u001b[0m\u001b[0;34m.\u001b[0m\u001b[0m_jobs\u001b[0m\u001b[0;34m)\u001b[0m\u001b[0;34m\u001b[0m\u001b[0;34m\u001b[0m\u001b[0m\n\u001b[0;32m--> 779\u001b[0;31m             \u001b[0mjob\u001b[0m \u001b[0;34m=\u001b[0m \u001b[0mself\u001b[0m\u001b[0;34m.\u001b[0m\u001b[0m_backend\u001b[0m\u001b[0;34m.\u001b[0m\u001b[0mapply_async\u001b[0m\u001b[0;34m(\u001b[0m\u001b[0mbatch\u001b[0m\u001b[0;34m,\u001b[0m \u001b[0mcallback\u001b[0m\u001b[0;34m=\u001b[0m\u001b[0mcb\u001b[0m\u001b[0;34m)\u001b[0m\u001b[0;34m\u001b[0m\u001b[0;34m\u001b[0m\u001b[0m\n\u001b[0m\u001b[1;32m    780\u001b[0m             \u001b[0;31m# A job can complete so quickly than its callback is\u001b[0m\u001b[0;34m\u001b[0m\u001b[0;34m\u001b[0m\u001b[0;34m\u001b[0m\u001b[0m\n\u001b[1;32m    781\u001b[0m             \u001b[0;31m# called before we get here, causing self._jobs to\u001b[0m\u001b[0;34m\u001b[0m\u001b[0;34m\u001b[0m\u001b[0;34m\u001b[0m\u001b[0m\n",
            "\u001b[0;32m/usr/local/lib/python3.7/dist-packages/joblib/_parallel_backends.py\u001b[0m in \u001b[0;36mapply_async\u001b[0;34m(self, func, callback)\u001b[0m\n\u001b[1;32m    206\u001b[0m     \u001b[0;32mdef\u001b[0m \u001b[0mapply_async\u001b[0m\u001b[0;34m(\u001b[0m\u001b[0mself\u001b[0m\u001b[0;34m,\u001b[0m \u001b[0mfunc\u001b[0m\u001b[0;34m,\u001b[0m \u001b[0mcallback\u001b[0m\u001b[0;34m=\u001b[0m\u001b[0;32mNone\u001b[0m\u001b[0;34m)\u001b[0m\u001b[0;34m:\u001b[0m\u001b[0;34m\u001b[0m\u001b[0;34m\u001b[0m\u001b[0m\n\u001b[1;32m    207\u001b[0m         \u001b[0;34m\"\"\"Schedule a func to be run\"\"\"\u001b[0m\u001b[0;34m\u001b[0m\u001b[0;34m\u001b[0m\u001b[0m\n\u001b[0;32m--> 208\u001b[0;31m         \u001b[0mresult\u001b[0m \u001b[0;34m=\u001b[0m \u001b[0mImmediateResult\u001b[0m\u001b[0;34m(\u001b[0m\u001b[0mfunc\u001b[0m\u001b[0;34m)\u001b[0m\u001b[0;34m\u001b[0m\u001b[0;34m\u001b[0m\u001b[0m\n\u001b[0m\u001b[1;32m    209\u001b[0m         \u001b[0;32mif\u001b[0m \u001b[0mcallback\u001b[0m\u001b[0;34m:\u001b[0m\u001b[0;34m\u001b[0m\u001b[0;34m\u001b[0m\u001b[0m\n\u001b[1;32m    210\u001b[0m             \u001b[0mcallback\u001b[0m\u001b[0;34m(\u001b[0m\u001b[0mresult\u001b[0m\u001b[0;34m)\u001b[0m\u001b[0;34m\u001b[0m\u001b[0;34m\u001b[0m\u001b[0m\n",
            "\u001b[0;32m/usr/local/lib/python3.7/dist-packages/joblib/_parallel_backends.py\u001b[0m in \u001b[0;36m__init__\u001b[0;34m(self, batch)\u001b[0m\n\u001b[1;32m    570\u001b[0m         \u001b[0;31m# Don't delay the application, to avoid keeping the input\u001b[0m\u001b[0;34m\u001b[0m\u001b[0;34m\u001b[0m\u001b[0;34m\u001b[0m\u001b[0m\n\u001b[1;32m    571\u001b[0m         \u001b[0;31m# arguments in memory\u001b[0m\u001b[0;34m\u001b[0m\u001b[0;34m\u001b[0m\u001b[0;34m\u001b[0m\u001b[0m\n\u001b[0;32m--> 572\u001b[0;31m         \u001b[0mself\u001b[0m\u001b[0;34m.\u001b[0m\u001b[0mresults\u001b[0m \u001b[0;34m=\u001b[0m \u001b[0mbatch\u001b[0m\u001b[0;34m(\u001b[0m\u001b[0;34m)\u001b[0m\u001b[0;34m\u001b[0m\u001b[0;34m\u001b[0m\u001b[0m\n\u001b[0m\u001b[1;32m    573\u001b[0m \u001b[0;34m\u001b[0m\u001b[0m\n\u001b[1;32m    574\u001b[0m     \u001b[0;32mdef\u001b[0m \u001b[0mget\u001b[0m\u001b[0;34m(\u001b[0m\u001b[0mself\u001b[0m\u001b[0;34m)\u001b[0m\u001b[0;34m:\u001b[0m\u001b[0;34m\u001b[0m\u001b[0;34m\u001b[0m\u001b[0m\n",
            "\u001b[0;32m/usr/local/lib/python3.7/dist-packages/joblib/parallel.py\u001b[0m in \u001b[0;36m__call__\u001b[0;34m(self)\u001b[0m\n\u001b[1;32m    261\u001b[0m         \u001b[0;32mwith\u001b[0m \u001b[0mparallel_backend\u001b[0m\u001b[0;34m(\u001b[0m\u001b[0mself\u001b[0m\u001b[0;34m.\u001b[0m\u001b[0m_backend\u001b[0m\u001b[0;34m,\u001b[0m \u001b[0mn_jobs\u001b[0m\u001b[0;34m=\u001b[0m\u001b[0mself\u001b[0m\u001b[0;34m.\u001b[0m\u001b[0m_n_jobs\u001b[0m\u001b[0;34m)\u001b[0m\u001b[0;34m:\u001b[0m\u001b[0;34m\u001b[0m\u001b[0;34m\u001b[0m\u001b[0m\n\u001b[1;32m    262\u001b[0m             return [func(*args, **kwargs)\n\u001b[0;32m--> 263\u001b[0;31m                     for func, args, kwargs in self.items]\n\u001b[0m\u001b[1;32m    264\u001b[0m \u001b[0;34m\u001b[0m\u001b[0m\n\u001b[1;32m    265\u001b[0m     \u001b[0;32mdef\u001b[0m \u001b[0m__reduce__\u001b[0m\u001b[0;34m(\u001b[0m\u001b[0mself\u001b[0m\u001b[0;34m)\u001b[0m\u001b[0;34m:\u001b[0m\u001b[0;34m\u001b[0m\u001b[0;34m\u001b[0m\u001b[0m\n",
            "\u001b[0;32m/usr/local/lib/python3.7/dist-packages/joblib/parallel.py\u001b[0m in \u001b[0;36m<listcomp>\u001b[0;34m(.0)\u001b[0m\n\u001b[1;32m    261\u001b[0m         \u001b[0;32mwith\u001b[0m \u001b[0mparallel_backend\u001b[0m\u001b[0;34m(\u001b[0m\u001b[0mself\u001b[0m\u001b[0;34m.\u001b[0m\u001b[0m_backend\u001b[0m\u001b[0;34m,\u001b[0m \u001b[0mn_jobs\u001b[0m\u001b[0;34m=\u001b[0m\u001b[0mself\u001b[0m\u001b[0;34m.\u001b[0m\u001b[0m_n_jobs\u001b[0m\u001b[0;34m)\u001b[0m\u001b[0;34m:\u001b[0m\u001b[0;34m\u001b[0m\u001b[0;34m\u001b[0m\u001b[0m\n\u001b[1;32m    262\u001b[0m             return [func(*args, **kwargs)\n\u001b[0;32m--> 263\u001b[0;31m                     for func, args, kwargs in self.items]\n\u001b[0m\u001b[1;32m    264\u001b[0m \u001b[0;34m\u001b[0m\u001b[0m\n\u001b[1;32m    265\u001b[0m     \u001b[0;32mdef\u001b[0m \u001b[0m__reduce__\u001b[0m\u001b[0;34m(\u001b[0m\u001b[0mself\u001b[0m\u001b[0;34m)\u001b[0m\u001b[0;34m:\u001b[0m\u001b[0;34m\u001b[0m\u001b[0;34m\u001b[0m\u001b[0m\n",
            "\u001b[0;32m/usr/local/lib/python3.7/dist-packages/sklearn/utils/fixes.py\u001b[0m in \u001b[0;36m__call__\u001b[0;34m(self, *args, **kwargs)\u001b[0m\n\u001b[1;32m    209\u001b[0m     \u001b[0;32mdef\u001b[0m \u001b[0m__call__\u001b[0m\u001b[0;34m(\u001b[0m\u001b[0mself\u001b[0m\u001b[0;34m,\u001b[0m \u001b[0;34m*\u001b[0m\u001b[0margs\u001b[0m\u001b[0;34m,\u001b[0m \u001b[0;34m**\u001b[0m\u001b[0mkwargs\u001b[0m\u001b[0;34m)\u001b[0m\u001b[0;34m:\u001b[0m\u001b[0;34m\u001b[0m\u001b[0;34m\u001b[0m\u001b[0m\n\u001b[1;32m    210\u001b[0m         \u001b[0;32mwith\u001b[0m \u001b[0mconfig_context\u001b[0m\u001b[0;34m(\u001b[0m\u001b[0;34m**\u001b[0m\u001b[0mself\u001b[0m\u001b[0;34m.\u001b[0m\u001b[0mconfig\u001b[0m\u001b[0;34m)\u001b[0m\u001b[0;34m:\u001b[0m\u001b[0;34m\u001b[0m\u001b[0;34m\u001b[0m\u001b[0m\n\u001b[0;32m--> 211\u001b[0;31m             \u001b[0;32mreturn\u001b[0m \u001b[0mself\u001b[0m\u001b[0;34m.\u001b[0m\u001b[0mfunction\u001b[0m\u001b[0;34m(\u001b[0m\u001b[0;34m*\u001b[0m\u001b[0margs\u001b[0m\u001b[0;34m,\u001b[0m \u001b[0;34m**\u001b[0m\u001b[0mkwargs\u001b[0m\u001b[0;34m)\u001b[0m\u001b[0;34m\u001b[0m\u001b[0;34m\u001b[0m\u001b[0m\n\u001b[0m\u001b[1;32m    212\u001b[0m \u001b[0;34m\u001b[0m\u001b[0m\n\u001b[1;32m    213\u001b[0m \u001b[0;34m\u001b[0m\u001b[0m\n",
            "\u001b[0;32m/usr/local/lib/python3.7/dist-packages/sklearn/ensemble/_forest.py\u001b[0m in \u001b[0;36m_parallel_build_trees\u001b[0;34m(tree, forest, X, y, sample_weight, tree_idx, n_trees, verbose, class_weight, n_samples_bootstrap)\u001b[0m\n\u001b[1;32m    183\u001b[0m             \u001b[0mcurr_sample_weight\u001b[0m \u001b[0;34m*=\u001b[0m \u001b[0mcompute_sample_weight\u001b[0m\u001b[0;34m(\u001b[0m\u001b[0;34m\"balanced\"\u001b[0m\u001b[0;34m,\u001b[0m \u001b[0my\u001b[0m\u001b[0;34m,\u001b[0m \u001b[0mindices\u001b[0m\u001b[0;34m=\u001b[0m\u001b[0mindices\u001b[0m\u001b[0;34m)\u001b[0m\u001b[0;34m\u001b[0m\u001b[0;34m\u001b[0m\u001b[0m\n\u001b[1;32m    184\u001b[0m \u001b[0;34m\u001b[0m\u001b[0m\n\u001b[0;32m--> 185\u001b[0;31m         \u001b[0mtree\u001b[0m\u001b[0;34m.\u001b[0m\u001b[0mfit\u001b[0m\u001b[0;34m(\u001b[0m\u001b[0mX\u001b[0m\u001b[0;34m,\u001b[0m \u001b[0my\u001b[0m\u001b[0;34m,\u001b[0m \u001b[0msample_weight\u001b[0m\u001b[0;34m=\u001b[0m\u001b[0mcurr_sample_weight\u001b[0m\u001b[0;34m,\u001b[0m \u001b[0mcheck_input\u001b[0m\u001b[0;34m=\u001b[0m\u001b[0;32mFalse\u001b[0m\u001b[0;34m)\u001b[0m\u001b[0;34m\u001b[0m\u001b[0;34m\u001b[0m\u001b[0m\n\u001b[0m\u001b[1;32m    186\u001b[0m     \u001b[0;32melse\u001b[0m\u001b[0;34m:\u001b[0m\u001b[0;34m\u001b[0m\u001b[0;34m\u001b[0m\u001b[0m\n\u001b[1;32m    187\u001b[0m         \u001b[0mtree\u001b[0m\u001b[0;34m.\u001b[0m\u001b[0mfit\u001b[0m\u001b[0;34m(\u001b[0m\u001b[0mX\u001b[0m\u001b[0;34m,\u001b[0m \u001b[0my\u001b[0m\u001b[0;34m,\u001b[0m \u001b[0msample_weight\u001b[0m\u001b[0;34m=\u001b[0m\u001b[0msample_weight\u001b[0m\u001b[0;34m,\u001b[0m \u001b[0mcheck_input\u001b[0m\u001b[0;34m=\u001b[0m\u001b[0;32mFalse\u001b[0m\u001b[0;34m)\u001b[0m\u001b[0;34m\u001b[0m\u001b[0;34m\u001b[0m\u001b[0m\n",
            "\u001b[0;32m/usr/local/lib/python3.7/dist-packages/sklearn/tree/_classes.py\u001b[0m in \u001b[0;36mfit\u001b[0;34m(self, X, y, sample_weight, check_input, X_idx_sorted)\u001b[0m\n\u001b[1;32m   1318\u001b[0m             \u001b[0msample_weight\u001b[0m\u001b[0;34m=\u001b[0m\u001b[0msample_weight\u001b[0m\u001b[0;34m,\u001b[0m\u001b[0;34m\u001b[0m\u001b[0;34m\u001b[0m\u001b[0m\n\u001b[1;32m   1319\u001b[0m             \u001b[0mcheck_input\u001b[0m\u001b[0;34m=\u001b[0m\u001b[0mcheck_input\u001b[0m\u001b[0;34m,\u001b[0m\u001b[0;34m\u001b[0m\u001b[0;34m\u001b[0m\u001b[0m\n\u001b[0;32m-> 1320\u001b[0;31m             \u001b[0mX_idx_sorted\u001b[0m\u001b[0;34m=\u001b[0m\u001b[0mX_idx_sorted\u001b[0m\u001b[0;34m,\u001b[0m\u001b[0;34m\u001b[0m\u001b[0;34m\u001b[0m\u001b[0m\n\u001b[0m\u001b[1;32m   1321\u001b[0m         )\n\u001b[1;32m   1322\u001b[0m         \u001b[0;32mreturn\u001b[0m \u001b[0mself\u001b[0m\u001b[0;34m\u001b[0m\u001b[0;34m\u001b[0m\u001b[0m\n",
            "\u001b[0;32m/usr/local/lib/python3.7/dist-packages/sklearn/tree/_classes.py\u001b[0m in \u001b[0;36mfit\u001b[0;34m(self, X, y, sample_weight, check_input, X_idx_sorted)\u001b[0m\n\u001b[1;32m    418\u001b[0m             )\n\u001b[1;32m    419\u001b[0m \u001b[0;34m\u001b[0m\u001b[0m\n\u001b[0;32m--> 420\u001b[0;31m         \u001b[0mbuilder\u001b[0m\u001b[0;34m.\u001b[0m\u001b[0mbuild\u001b[0m\u001b[0;34m(\u001b[0m\u001b[0mself\u001b[0m\u001b[0;34m.\u001b[0m\u001b[0mtree_\u001b[0m\u001b[0;34m,\u001b[0m \u001b[0mX\u001b[0m\u001b[0;34m,\u001b[0m \u001b[0my\u001b[0m\u001b[0;34m,\u001b[0m \u001b[0msample_weight\u001b[0m\u001b[0;34m)\u001b[0m\u001b[0;34m\u001b[0m\u001b[0;34m\u001b[0m\u001b[0m\n\u001b[0m\u001b[1;32m    421\u001b[0m \u001b[0;34m\u001b[0m\u001b[0m\n\u001b[1;32m    422\u001b[0m         \u001b[0;32mif\u001b[0m \u001b[0mself\u001b[0m\u001b[0;34m.\u001b[0m\u001b[0mn_outputs_\u001b[0m \u001b[0;34m==\u001b[0m \u001b[0;36m1\u001b[0m \u001b[0;32mand\u001b[0m \u001b[0mis_classifier\u001b[0m\u001b[0;34m(\u001b[0m\u001b[0mself\u001b[0m\u001b[0;34m)\u001b[0m\u001b[0;34m:\u001b[0m\u001b[0;34m\u001b[0m\u001b[0;34m\u001b[0m\u001b[0m\n",
            "\u001b[0;31mKeyboardInterrupt\u001b[0m: "
          ]
        }
      ]
    },
    {
      "cell_type": "markdown",
      "source": [
        ""
      ],
      "metadata": {
        "id": "UX0B5f4Q3LwW"
      }
    },
    {
      "cell_type": "code",
      "metadata": {
        "colab": {
          "background_save": true,
          "base_uri": "https://localhost:8080/"
        },
        "id": "5_cQ6tXTthyM",
        "outputId": "ff9e012a-94a4-430a-c67a-6830b7a42dfc"
      },
      "source": [
        "# Random forests for summer months\n",
        "run_full_random_forest_regression_with_accuracy(summer_fires_df, summer_fires_log_size)"
      ],
      "execution_count": null,
      "outputs": [
        {
          "name": "stdout",
          "output_type": "stream",
          "text": [
            "Response Minimum: FIRE_SIZE   -1.698422\n",
            "dtype: float64\n",
            "Response Maximum: FIRE_SIZE    6.638909\n",
            "dtype: float64\n"
          ]
        },
        {
          "name": "stderr",
          "output_type": "stream",
          "text": [
            "/usr/local/lib/python3.7/dist-packages/ipykernel_launcher.py:154: DataConversionWarning: A column-vector y was passed when a 1d array was expected. Please change the shape of y to (n_samples,), for example using ravel().\n"
          ]
        },
        {
          "name": "stdout",
          "output_type": "stream",
          "text": [
            "Training: mean absolute error:  0.25446062326206703\n",
            "Test mean absolute error:  0.6681863760662583\n",
            "Training average error rate:  0.1714524020813536\n",
            "Test average error rate:  0.4603202742169611\n",
            "Explained variance in training set is:  0.8693374232241285\n",
            "Explained variance in test set is:  0.14721311827405048\n"
          ]
        },
        {
          "data": {
            "image/png": "[encoded data removed]",
            "text/plain": [
              "<Figure size 432x288 with 1 Axes>"
            ]
          },
          "metadata": {},
          "output_type": "display_data"
        },
        {
          "data": {
            "image/png": "[encoded data removed]",
            "text/plain": [
              "<Figure size 432x288 with 1 Axes>"
            ]
          },
          "metadata": {},
          "output_type": "display_data"
        }
      ]
    },
    {
      "cell_type": "code",
      "metadata": {
        "id": "CFQfCU4cZnHH"
      },
      "source": [
        ""
      ],
      "execution_count": null,
      "outputs": []
    },
    {
      "cell_type": "markdown",
      "metadata": {
        "id": "HUdIuX7J9ZVU"
      },
      "source": [
        "# Model 2: Random Forest Classifier"
      ]
    },
    {
      "cell_type": "code",
      "metadata": {
        "colab": {
          "base_uri": "https://localhost:8080/",
          "height": 273
        },
        "id": "qvVa0u8vekwQ",
        "outputId": "61824bd1-52ca-4dc6-e1a0-f713fc9b6e92"
      },
      "source": [
        "# Model 2: \n",
        "stat = numerical['STAT_CAUSE_CODE']\n",
        "stat.value_counts()\n",
        "\n",
        "cleaned_stat1 = numerical[numerical.STAT_CAUSE_CODE != 13.0]\n",
        "cleaned_stat = cleaned_stat1[cleaned_stat1.STAT_CAUSE_CODE != 9.0]\n",
        "\n",
        "col_index = cleaned_stat.columns.get_loc('STAT_CAUSE_CODE')\n",
        "#print(col_index)\n",
        "cleaned_stat.head()\n",
        "\n",
        "# use either a random forest or neural network to predict the "
      ],
      "execution_count": null,
      "outputs": [
        {
          "data": {
            "text/html": [
              "<div>\n",
              "<style scoped>\n",
              "    .dataframe tbody tr th:only-of-type {\n",
              "        vertical-align: middle;\n",
              "    }\n",
              "\n",
              "    .dataframe tbody tr th {\n",
              "        vertical-align: top;\n",
              "    }\n",
              "\n",
              "    .dataframe thead th {\n",
              "        text-align: right;\n",
              "    }\n",
              "</style>\n",
              "<table border=\"1\" class=\"dataframe\">\n",
              "  <thead>\n",
              "    <tr style=\"text-align: right;\">\n",
              "      <th></th>\n",
              "      <th>Unnamed: 0</th>\n",
              "      <th>BODIE</th>\n",
              "      <th>BROOKS</th>\n",
              "      <th>COHASSET</th>\n",
              "      <th>CONTAINMENT_MONTH</th>\n",
              "      <th>CONT_DATE</th>\n",
              "      <th>CONT_DOY</th>\n",
              "      <th>CONT_TIME</th>\n",
              "      <th>DISCOVERY_DATE</th>\n",
              "      <th>DISCOVERY_DOY</th>\n",
              "      <th>DISCOVERY_MONTH</th>\n",
              "      <th>DISCOVERY_TIME</th>\n",
              "      <th>EEL_RIVER</th>\n",
              "      <th>FIRE_SIZE</th>\n",
              "      <th>FIRE_YEAR</th>\n",
              "      <th>FOD_ID</th>\n",
              "      <th>HELL_HOLE</th>\n",
              "      <th>HERNANDEZ</th>\n",
              "      <th>HUNTER_MOUNTAIN</th>\n",
              "      <th>JUANITA_LAKE</th>\n",
              "      <th>LADDER_BUTTE</th>\n",
              "      <th>LAS_TABLAS</th>\n",
              "      <th>LA_HONDA</th>\n",
              "      <th>OAK_CREEK</th>\n",
              "      <th>PANAMINT</th>\n",
              "      <th>PILOT_HILL</th>\n",
              "      <th>PRIMARY_STATION_10_MONTHS_PRIOR_EXTREME_MAXIMUM_TEMPERATURE_MONTH</th>\n",
              "      <th>PRIMARY_STATION_10_MONTHS_PRIOR_EXTREME_MINIMUM_TEMPERATURE_FOR_MONTH</th>\n",
              "      <th>PRIMARY_STATION_10_MONTHS_PRIOR_HEATING_DEGREE_DAYS_TO_DATE</th>\n",
              "      <th>PRIMARY_STATION_10_MONTHS_PRIOR_NUM_COOLING_DEGREE_DAY</th>\n",
              "      <th>PRIMARY_STATION_10_MONTHS_PRIOR_NUM_COOLING_DEGREE_DAY_CUMULATIVE</th>\n",
              "      <th>PRIMARY_STATION_10_MONTHS_PRIOR_NUM_DAYS_WHERE_AVG_TEMP_BELOW_65_FAHRENHEIT</th>\n",
              "      <th>PRIMARY_STATION_10_MONTHS_PRIOR_NUM_DAYS_WITH_MAX_TEMP_ABOVE_70_FAHRENHEIT</th>\n",
              "      <th>PRIMARY_STATION_10_MONTHS_PRIOR_NUM_DAYS_WITH_MAX_TEMP_ABOVE_90_FAHRENHEIT</th>\n",
              "      <th>PRIMARY_STATION_10_MONTHS_PRIOR_NUM_DAYS_WITH_MIN_TEMP_BELOW_0_FAHRENHEIT</th>\n",
              "      <th>PRIMARY_STATION_10_MONTHS_PRIOR_NUM_DAYS_WITH_MIN_TEMP_BELOW_32_FAHRENHEIT</th>\n",
              "      <th>PRIMARY_STATION_10_MONTHS_PRIOR_TEMPERATURE_AVERAGE</th>\n",
              "      <th>PRIMARY_STATION_10_MONTHS_PRIOR_TEMPERATURE_MAX</th>\n",
              "      <th>PRIMARY_STATION_10_MONTHS_PRIOR_TEMPERATURE_MIN</th>\n",
              "      <th>PRIMARY_STATION_11_MONTHS_PRIOR_EXTREME_MAXIMUM_TEMPERATURE_MONTH</th>\n",
              "      <th>...</th>\n",
              "      <th>PRIMARY_STATION_7_MONTHS_PRIOR_TEMPERATURE_MAX</th>\n",
              "      <th>PRIMARY_STATION_7_MONTHS_PRIOR_TEMPERATURE_MIN</th>\n",
              "      <th>PRIMARY_STATION_8_MONTHS_PRIOR_EXTREME_MAXIMUM_TEMPERATURE_MONTH</th>\n",
              "      <th>PRIMARY_STATION_8_MONTHS_PRIOR_EXTREME_MINIMUM_TEMPERATURE_FOR_MONTH</th>\n",
              "      <th>PRIMARY_STATION_8_MONTHS_PRIOR_HEATING_DEGREE_DAYS_TO_DATE</th>\n",
              "      <th>PRIMARY_STATION_8_MONTHS_PRIOR_NUM_COOLING_DEGREE_DAY</th>\n",
              "      <th>PRIMARY_STATION_8_MONTHS_PRIOR_NUM_COOLING_DEGREE_DAY_CUMULATIVE</th>\n",
              "      <th>PRIMARY_STATION_8_MONTHS_PRIOR_NUM_DAYS_WHERE_AVG_TEMP_BELOW_65_FAHRENHEIT</th>\n",
              "      <th>PRIMARY_STATION_8_MONTHS_PRIOR_NUM_DAYS_WITH_MAX_TEMP_ABOVE_70_FAHRENHEIT</th>\n",
              "      <th>PRIMARY_STATION_8_MONTHS_PRIOR_NUM_DAYS_WITH_MAX_TEMP_ABOVE_90_FAHRENHEIT</th>\n",
              "      <th>PRIMARY_STATION_8_MONTHS_PRIOR_NUM_DAYS_WITH_MIN_TEMP_BELOW_0_FAHRENHEIT</th>\n",
              "      <th>PRIMARY_STATION_8_MONTHS_PRIOR_NUM_DAYS_WITH_MIN_TEMP_BELOW_32_FAHRENHEIT</th>\n",
              "      <th>PRIMARY_STATION_8_MONTHS_PRIOR_TEMPERATURE_AVERAGE</th>\n",
              "      <th>PRIMARY_STATION_8_MONTHS_PRIOR_TEMPERATURE_MAX</th>\n",
              "      <th>PRIMARY_STATION_8_MONTHS_PRIOR_TEMPERATURE_MIN</th>\n",
              "      <th>PRIMARY_STATION_9_MONTHS_PRIOR_EXTREME_MAXIMUM_TEMPERATURE_MONTH</th>\n",
              "      <th>PRIMARY_STATION_9_MONTHS_PRIOR_EXTREME_MINIMUM_TEMPERATURE_FOR_MONTH</th>\n",
              "      <th>PRIMARY_STATION_9_MONTHS_PRIOR_HEATING_DEGREE_DAYS_TO_DATE</th>\n",
              "      <th>PRIMARY_STATION_9_MONTHS_PRIOR_NUM_COOLING_DEGREE_DAY</th>\n",
              "      <th>PRIMARY_STATION_9_MONTHS_PRIOR_NUM_COOLING_DEGREE_DAY_CUMULATIVE</th>\n",
              "      <th>PRIMARY_STATION_9_MONTHS_PRIOR_NUM_DAYS_WHERE_AVG_TEMP_BELOW_65_FAHRENHEIT</th>\n",
              "      <th>PRIMARY_STATION_9_MONTHS_PRIOR_NUM_DAYS_WITH_MAX_TEMP_ABOVE_70_FAHRENHEIT</th>\n",
              "      <th>PRIMARY_STATION_9_MONTHS_PRIOR_NUM_DAYS_WITH_MAX_TEMP_ABOVE_90_FAHRENHEIT</th>\n",
              "      <th>PRIMARY_STATION_9_MONTHS_PRIOR_NUM_DAYS_WITH_MIN_TEMP_BELOW_0_FAHRENHEIT</th>\n",
              "      <th>PRIMARY_STATION_9_MONTHS_PRIOR_NUM_DAYS_WITH_MIN_TEMP_BELOW_32_FAHRENHEIT</th>\n",
              "      <th>PRIMARY_STATION_9_MONTHS_PRIOR_TEMPERATURE_AVERAGE</th>\n",
              "      <th>PRIMARY_STATION_9_MONTHS_PRIOR_TEMPERATURE_MAX</th>\n",
              "      <th>PRIMARY_STATION_9_MONTHS_PRIOR_TEMPERATURE_MIN</th>\n",
              "      <th>SCORPION</th>\n",
              "      <th>SOLDIER_MOUNTAIN</th>\n",
              "      <th>SQUAW_LAKE</th>\n",
              "      <th>STAMPEDE</th>\n",
              "      <th>STAT_CAUSE_CODE</th>\n",
              "      <th>Unnamed: 0.1</th>\n",
              "      <th>VAN_BREMMER</th>\n",
              "      <th>WOLVERTON</th>\n",
              "      <th>S_LATITUDE</th>\n",
              "      <th>S_LONGITUDE</th>\n",
              "      <th>PRIMARY_STATION_ELEVATION</th>\n",
              "      <th>DURATION</th>\n",
              "    </tr>\n",
              "  </thead>\n",
              "  <tbody>\n",
              "    <tr>\n",
              "      <th>1</th>\n",
              "      <td>1</td>\n",
              "      <td>-1.237103</td>\n",
              "      <td>-0.939629</td>\n",
              "      <td>-0.802799</td>\n",
              "      <td>5</td>\n",
              "      <td>2453137.5</td>\n",
              "      <td>133.0</td>\n",
              "      <td>1530.0</td>\n",
              "      <td>2453137.5</td>\n",
              "      <td>133</td>\n",
              "      <td>5</td>\n",
              "      <td>845.0</td>\n",
              "      <td>-0.597768</td>\n",
              "      <td>0.25</td>\n",
              "      <td>2004</td>\n",
              "      <td>2</td>\n",
              "      <td>-1.471873</td>\n",
              "      <td>-0.562875</td>\n",
              "      <td>-0.243079</td>\n",
              "      <td>-0.487813</td>\n",
              "      <td>-0.669480</td>\n",
              "      <td>-0.281374</td>\n",
              "      <td>-0.869095</td>\n",
              "      <td>-0.451833</td>\n",
              "      <td>-0.057172</td>\n",
              "      <td>-1.280961</td>\n",
              "      <td>1.107121</td>\n",
              "      <td>1.246597</td>\n",
              "      <td>-1.892349</td>\n",
              "      <td>1.462712</td>\n",
              "      <td>0.616480</td>\n",
              "      <td>-1.143144</td>\n",
              "      <td>1.346270</td>\n",
              "      <td>1.326651</td>\n",
              "      <td>-0.155696</td>\n",
              "      <td>-0.935826</td>\n",
              "      <td>1.266014</td>\n",
              "      <td>1.148791</td>\n",
              "      <td>1.326016</td>\n",
              "      <td>0.515265</td>\n",
              "      <td>...</td>\n",
              "      <td>0.364579</td>\n",
              "      <td>0.480207</td>\n",
              "      <td>0.712551</td>\n",
              "      <td>0.843521</td>\n",
              "      <td>-1.088438</td>\n",
              "      <td>1.228810</td>\n",
              "      <td>0.887540</td>\n",
              "      <td>-1.045693</td>\n",
              "      <td>1.184631</td>\n",
              "      <td>0.899683</td>\n",
              "      <td>-0.155696</td>\n",
              "      <td>-0.935826</td>\n",
              "      <td>1.008103</td>\n",
              "      <td>0.901795</td>\n",
              "      <td>1.079010</td>\n",
              "      <td>0.449504</td>\n",
              "      <td>1.179417</td>\n",
              "      <td>-1.346469</td>\n",
              "      <td>1.000752</td>\n",
              "      <td>0.740623</td>\n",
              "      <td>-1.080272</td>\n",
              "      <td>1.184631</td>\n",
              "      <td>-0.641117</td>\n",
              "      <td>-0.155696</td>\n",
              "      <td>-0.935826</td>\n",
              "      <td>0.882632</td>\n",
              "      <td>0.765948</td>\n",
              "      <td>0.959249</td>\n",
              "      <td>-0.473194</td>\n",
              "      <td>-0.612901</td>\n",
              "      <td>0.315528</td>\n",
              "      <td>-1.287797</td>\n",
              "      <td>1.0</td>\n",
              "      <td>1</td>\n",
              "      <td>-0.513504</td>\n",
              "      <td>-0.311271</td>\n",
              "      <td>0.672217</td>\n",
              "      <td>0.388850</td>\n",
              "      <td>0.525056</td>\n",
              "      <td>0.0</td>\n",
              "    </tr>\n",
              "    <tr>\n",
              "      <th>2</th>\n",
              "      <td>2</td>\n",
              "      <td>-1.070104</td>\n",
              "      <td>-1.059637</td>\n",
              "      <td>-0.891098</td>\n",
              "      <td>6</td>\n",
              "      <td>2453156.5</td>\n",
              "      <td>152.0</td>\n",
              "      <td>2024.0</td>\n",
              "      <td>2453156.5</td>\n",
              "      <td>152</td>\n",
              "      <td>6</td>\n",
              "      <td>1921.0</td>\n",
              "      <td>-0.695749</td>\n",
              "      <td>0.10</td>\n",
              "      <td>2004</td>\n",
              "      <td>3</td>\n",
              "      <td>-1.410920</td>\n",
              "      <td>-0.543260</td>\n",
              "      <td>-0.109734</td>\n",
              "      <td>-0.533929</td>\n",
              "      <td>-0.714976</td>\n",
              "      <td>-0.262071</td>\n",
              "      <td>-0.950563</td>\n",
              "      <td>-0.317057</td>\n",
              "      <td>0.059122</td>\n",
              "      <td>-1.392229</td>\n",
              "      <td>0.449504</td>\n",
              "      <td>1.179417</td>\n",
              "      <td>-1.346469</td>\n",
              "      <td>1.000752</td>\n",
              "      <td>0.740623</td>\n",
              "      <td>-1.080272</td>\n",
              "      <td>1.184631</td>\n",
              "      <td>-0.641117</td>\n",
              "      <td>-0.155696</td>\n",
              "      <td>-0.935826</td>\n",
              "      <td>0.882632</td>\n",
              "      <td>0.765948</td>\n",
              "      <td>0.959249</td>\n",
              "      <td>1.107121</td>\n",
              "      <td>...</td>\n",
              "      <td>-1.203845</td>\n",
              "      <td>-0.919494</td>\n",
              "      <td>0.120695</td>\n",
              "      <td>-0.298527</td>\n",
              "      <td>-0.660663</td>\n",
              "      <td>0.351139</td>\n",
              "      <td>0.910179</td>\n",
              "      <td>-0.737623</td>\n",
              "      <td>0.942172</td>\n",
              "      <td>-0.641117</td>\n",
              "      <td>-0.155696</td>\n",
              "      <td>-0.232580</td>\n",
              "      <td>0.429544</td>\n",
              "      <td>0.364579</td>\n",
              "      <td>0.480207</td>\n",
              "      <td>0.712551</td>\n",
              "      <td>0.843521</td>\n",
              "      <td>-1.088438</td>\n",
              "      <td>1.228810</td>\n",
              "      <td>0.887540</td>\n",
              "      <td>-1.045693</td>\n",
              "      <td>1.184631</td>\n",
              "      <td>0.899683</td>\n",
              "      <td>-0.155696</td>\n",
              "      <td>-0.935826</td>\n",
              "      <td>1.008103</td>\n",
              "      <td>0.901795</td>\n",
              "      <td>1.079010</td>\n",
              "      <td>-0.537641</td>\n",
              "      <td>-0.663661</td>\n",
              "      <td>0.382606</td>\n",
              "      <td>-1.233892</td>\n",
              "      <td>5.0</td>\n",
              "      <td>2</td>\n",
              "      <td>-0.557916</td>\n",
              "      <td>-0.204482</td>\n",
              "      <td>0.677589</td>\n",
              "      <td>0.356621</td>\n",
              "      <td>0.525056</td>\n",
              "      <td>0.0</td>\n",
              "    </tr>\n",
              "    <tr>\n",
              "      <th>3</th>\n",
              "      <td>3</td>\n",
              "      <td>-1.588084</td>\n",
              "      <td>-0.752356</td>\n",
              "      <td>-0.586044</td>\n",
              "      <td>7</td>\n",
              "      <td>2453189.5</td>\n",
              "      <td>185.0</td>\n",
              "      <td>1400.0</td>\n",
              "      <td>2453184.5</td>\n",
              "      <td>180</td>\n",
              "      <td>6</td>\n",
              "      <td>1600.0</td>\n",
              "      <td>-0.401895</td>\n",
              "      <td>0.10</td>\n",
              "      <td>2004</td>\n",
              "      <td>4</td>\n",
              "      <td>-1.213089</td>\n",
              "      <td>-0.755069</td>\n",
              "      <td>-0.564467</td>\n",
              "      <td>-0.322165</td>\n",
              "      <td>-0.486222</td>\n",
              "      <td>-0.477673</td>\n",
              "      <td>-0.836997</td>\n",
              "      <td>-0.795000</td>\n",
              "      <td>-0.341413</td>\n",
              "      <td>-1.070171</td>\n",
              "      <td>0.054933</td>\n",
              "      <td>-1.171858</td>\n",
              "      <td>-0.221036</td>\n",
              "      <td>-0.886171</td>\n",
              "      <td>-0.943438</td>\n",
              "      <td>-0.237796</td>\n",
              "      <td>1.022992</td>\n",
              "      <td>-0.641117</td>\n",
              "      <td>-0.155696</td>\n",
              "      <td>1.194679</td>\n",
              "      <td>-0.072339</td>\n",
              "      <td>0.506602</td>\n",
              "      <td>-0.769793</td>\n",
              "      <td>0.317980</td>\n",
              "      <td>...</td>\n",
              "      <td>-1.580514</td>\n",
              "      <td>-2.394046</td>\n",
              "      <td>-0.471161</td>\n",
              "      <td>-2.112368</td>\n",
              "      <td>0.286552</td>\n",
              "      <td>-0.886171</td>\n",
              "      <td>-0.960148</td>\n",
              "      <td>0.626685</td>\n",
              "      <td>0.133976</td>\n",
              "      <td>-0.641117</td>\n",
              "      <td>1.972633</td>\n",
              "      <td>1.676955</td>\n",
              "      <td>-0.755457</td>\n",
              "      <td>-0.018265</td>\n",
              "      <td>-1.600632</td>\n",
              "      <td>-0.142352</td>\n",
              "      <td>-1.037499</td>\n",
              "      <td>0.028929</td>\n",
              "      <td>-0.886171</td>\n",
              "      <td>-0.943438</td>\n",
              "      <td>-0.027177</td>\n",
              "      <td>0.699714</td>\n",
              "      <td>-0.641117</td>\n",
              "      <td>-0.155696</td>\n",
              "      <td>1.336341</td>\n",
              "      <td>-0.337221</td>\n",
              "      <td>0.315180</td>\n",
              "      <td>-1.106620</td>\n",
              "      <td>-0.296636</td>\n",
              "      <td>-0.431126</td>\n",
              "      <td>0.143227</td>\n",
              "      <td>-1.125369</td>\n",
              "      <td>1.0</td>\n",
              "      <td>3</td>\n",
              "      <td>-0.346639</td>\n",
              "      <td>-0.618217</td>\n",
              "      <td>0.632919</td>\n",
              "      <td>0.436654</td>\n",
              "      <td>1.808604</td>\n",
              "      <td>5.0</td>\n",
              "    </tr>\n",
              "    <tr>\n",
              "      <th>4</th>\n",
              "      <td>4</td>\n",
              "      <td>-1.578681</td>\n",
              "      <td>-0.759860</td>\n",
              "      <td>-0.590604</td>\n",
              "      <td>7</td>\n",
              "      <td>2453189.5</td>\n",
              "      <td>185.0</td>\n",
              "      <td>1200.0</td>\n",
              "      <td>2453184.5</td>\n",
              "      <td>180</td>\n",
              "      <td>6</td>\n",
              "      <td>1600.0</td>\n",
              "      <td>-0.407106</td>\n",
              "      <td>0.10</td>\n",
              "      <td>2004</td>\n",
              "      <td>5</td>\n",
              "      <td>-1.217813</td>\n",
              "      <td>-0.758604</td>\n",
              "      <td>-0.557924</td>\n",
              "      <td>-0.324379</td>\n",
              "      <td>-0.488626</td>\n",
              "      <td>-0.480494</td>\n",
              "      <td>-0.845502</td>\n",
              "      <td>-0.788869</td>\n",
              "      <td>-0.335760</td>\n",
              "      <td>-1.077584</td>\n",
              "      <td>0.054933</td>\n",
              "      <td>-1.171858</td>\n",
              "      <td>-0.221036</td>\n",
              "      <td>-0.886171</td>\n",
              "      <td>-0.943438</td>\n",
              "      <td>-0.237796</td>\n",
              "      <td>1.022992</td>\n",
              "      <td>-0.641117</td>\n",
              "      <td>-0.155696</td>\n",
              "      <td>1.194679</td>\n",
              "      <td>-0.072339</td>\n",
              "      <td>0.506602</td>\n",
              "      <td>-0.769793</td>\n",
              "      <td>0.317980</td>\n",
              "      <td>...</td>\n",
              "      <td>-1.580514</td>\n",
              "      <td>-2.394046</td>\n",
              "      <td>-0.471161</td>\n",
              "      <td>-2.112368</td>\n",
              "      <td>0.286552</td>\n",
              "      <td>-0.886171</td>\n",
              "      <td>-0.960148</td>\n",
              "      <td>0.626685</td>\n",
              "      <td>0.133976</td>\n",
              "      <td>-0.641117</td>\n",
              "      <td>1.972633</td>\n",
              "      <td>1.676955</td>\n",
              "      <td>-0.755457</td>\n",
              "      <td>-0.018265</td>\n",
              "      <td>-1.600632</td>\n",
              "      <td>-0.142352</td>\n",
              "      <td>-1.037499</td>\n",
              "      <td>0.028929</td>\n",
              "      <td>-0.886171</td>\n",
              "      <td>-0.943438</td>\n",
              "      <td>-0.027177</td>\n",
              "      <td>0.699714</td>\n",
              "      <td>-0.641117</td>\n",
              "      <td>-0.155696</td>\n",
              "      <td>1.336341</td>\n",
              "      <td>-0.337221</td>\n",
              "      <td>0.315180</td>\n",
              "      <td>-1.106620</td>\n",
              "      <td>-0.299859</td>\n",
              "      <td>-0.433722</td>\n",
              "      <td>0.146406</td>\n",
              "      <td>-1.126335</td>\n",
              "      <td>1.0</td>\n",
              "      <td>4</td>\n",
              "      <td>-0.348787</td>\n",
              "      <td>-0.614275</td>\n",
              "      <td>0.632919</td>\n",
              "      <td>0.434734</td>\n",
              "      <td>1.808604</td>\n",
              "      <td>5.0</td>\n",
              "    </tr>\n",
              "    <tr>\n",
              "      <th>5</th>\n",
              "      <td>5</td>\n",
              "      <td>-1.475062</td>\n",
              "      <td>-0.828420</td>\n",
              "      <td>-0.650928</td>\n",
              "      <td>7</td>\n",
              "      <td>2453187.5</td>\n",
              "      <td>183.0</td>\n",
              "      <td>1600.0</td>\n",
              "      <td>2453186.5</td>\n",
              "      <td>182</td>\n",
              "      <td>7</td>\n",
              "      <td>1800.0</td>\n",
              "      <td>-0.466098</td>\n",
              "      <td>0.10</td>\n",
              "      <td>2004</td>\n",
              "      <td>6</td>\n",
              "      <td>-1.287362</td>\n",
              "      <td>-0.734812</td>\n",
              "      <td>-0.468792</td>\n",
              "      <td>-0.365956</td>\n",
              "      <td>-0.534467</td>\n",
              "      <td>-0.452476</td>\n",
              "      <td>-0.887998</td>\n",
              "      <td>-0.696533</td>\n",
              "      <td>-0.257419</td>\n",
              "      <td>-1.153409</td>\n",
              "      <td>-0.142352</td>\n",
              "      <td>-1.037499</td>\n",
              "      <td>0.028929</td>\n",
              "      <td>-0.886171</td>\n",
              "      <td>-0.943438</td>\n",
              "      <td>-0.027177</td>\n",
              "      <td>0.699714</td>\n",
              "      <td>-0.641117</td>\n",
              "      <td>-0.155696</td>\n",
              "      <td>1.336341</td>\n",
              "      <td>-0.337221</td>\n",
              "      <td>0.315180</td>\n",
              "      <td>-1.106620</td>\n",
              "      <td>0.054933</td>\n",
              "      <td>...</td>\n",
              "      <td>-1.802810</td>\n",
              "      <td>-2.588656</td>\n",
              "      <td>-1.654873</td>\n",
              "      <td>-2.649803</td>\n",
              "      <td>0.599574</td>\n",
              "      <td>-0.886171</td>\n",
              "      <td>-0.960148</td>\n",
              "      <td>2.229905</td>\n",
              "      <td>-1.159138</td>\n",
              "      <td>-0.641117</td>\n",
              "      <td>4.334161</td>\n",
              "      <td>1.643791</td>\n",
              "      <td>-2.003192</td>\n",
              "      <td>-1.580514</td>\n",
              "      <td>-2.394046</td>\n",
              "      <td>-0.471161</td>\n",
              "      <td>-2.112368</td>\n",
              "      <td>0.286552</td>\n",
              "      <td>-0.886171</td>\n",
              "      <td>-0.960148</td>\n",
              "      <td>0.626685</td>\n",
              "      <td>0.133976</td>\n",
              "      <td>-0.641117</td>\n",
              "      <td>1.972633</td>\n",
              "      <td>1.676955</td>\n",
              "      <td>-0.755457</td>\n",
              "      <td>-0.018265</td>\n",
              "      <td>-1.600632</td>\n",
              "      <td>-0.347212</td>\n",
              "      <td>-0.479891</td>\n",
              "      <td>0.192960</td>\n",
              "      <td>-1.167372</td>\n",
              "      <td>1.0</td>\n",
              "      <td>5</td>\n",
              "      <td>-0.390388</td>\n",
              "      <td>-0.537247</td>\n",
              "      <td>0.640919</td>\n",
              "      <td>0.418133</td>\n",
              "      <td>1.808604</td>\n",
              "      <td>1.0</td>\n",
              "    </tr>\n",
              "  </tbody>\n",
              "</table>\n",
              "<p>5 rows × 246 columns</p>\n",
              "</div>"
            ],
            "text/plain": [
              "   Unnamed: 0     BODIE  ...  PRIMARY_STATION_ELEVATION  DURATION\n",
              "1           1 -1.237103  ...                   0.525056       0.0\n",
              "2           2 -1.070104  ...                   0.525056       0.0\n",
              "3           3 -1.588084  ...                   1.808604       5.0\n",
              "4           4 -1.578681  ...                   1.808604       5.0\n",
              "5           5 -1.475062  ...                   1.808604       1.0\n",
              "\n",
              "[5 rows x 246 columns]"
            ]
          },
          "execution_count": 25,
          "metadata": {},
          "output_type": "execute_result"
        }
      ]
    },
    {
      "cell_type": "code",
      "metadata": {
        "id": "lB_UQKG_R08b"
      },
      "source": [
        "from sklearn.ensemble import RandomForestClassifier\n",
        "# Instantiate model with 135 decision trees (figured out in the next few blocks of code that this is optimal)\n",
        "forest = RandomForestClassifier(n_estimators = 135, oob_score = True)"
      ],
      "execution_count": null,
      "outputs": []
    },
    {
      "cell_type": "code",
      "metadata": {
        "colab": {
          "base_uri": "https://localhost:8080/"
        },
        "id": "Gyfu--HUQd5h",
        "outputId": "38034767-a4bc-47aa-f8fd-f6fed6a8285b"
      },
      "source": [
        "x_train_mod2 = np.array(cleaned_stat.iloc[:, col_index+1:])\n",
        "y_mod2 = cleaned_stat.iloc[:, [col_index]]\n",
        "y_train_mod2 = np.array(y_mod2)\n",
        "\n",
        "forest.fit(x_train_mod2, y_train_mod2.ravel())\n",
        "print(forest.score(x_train_mod2, y_train_mod2))\n",
        "print(forest.oob_score_)"
      ],
      "execution_count": null,
      "outputs": [
        {
          "name": "stdout",
          "output_type": "stream",
          "text": [
            "1.0\n",
            "0.6247818786422151\n"
          ]
        }
      ]
    },
    {
      "cell_type": "code",
      "metadata": {
        "colab": {
          "base_uri": "https://localhost:8080/",
          "height": 1000
        },
        "id": "ZtRmiysSWA43",
        "outputId": "25a8add2-fe47-4865-e7f1-3aae76a7470c"
      },
      "source": [
        "oob_list = []\n",
        "\n",
        "for i in range(20, 100, 2):\n",
        "    print(\"curr estimators:\", i)\n",
        "    forest = RandomForestClassifier(n_estimators = i, oob_score = True)\n",
        "    forest.fit(x_train_mod2, y_train_mod2.ravel())\n",
        "    oob_list.append(forest.oob_score_)\n",
        "plt.plot(list(range(20, 100, 2)), oob_list)\n",
        "plt.xlabel('# Trees')\n",
        "plt.ylabel('Out of Bag Classification Score')\n",
        "plt.show()"
      ],
      "execution_count": null,
      "outputs": [
        {
          "name": "stdout",
          "output_type": "stream",
          "text": [
            "curr estimators: 20\n"
          ]
        },
        {
          "name": "stderr",
          "output_type": "stream",
          "text": [
            "/usr/local/lib/python3.7/dist-packages/sklearn/ensemble/_forest.py:554: UserWarning: Some inputs do not have OOB scores. This probably means too few trees were used to compute any reliable OOB estimates.\n",
            "  UserWarning,\n"
          ]
        },
        {
          "name": "stdout",
          "output_type": "stream",
          "text": [
            "curr estimators: 22\n"
          ]
        },
        {
          "name": "stderr",
          "output_type": "stream",
          "text": [
            "/usr/local/lib/python3.7/dist-packages/sklearn/ensemble/_forest.py:554: UserWarning: Some inputs do not have OOB scores. This probably means too few trees were used to compute any reliable OOB estimates.\n",
            "  UserWarning,\n"
          ]
        },
        {
          "name": "stdout",
          "output_type": "stream",
          "text": [
            "curr estimators: 24\n"
          ]
        },
        {
          "name": "stderr",
          "output_type": "stream",
          "text": [
            "/usr/local/lib/python3.7/dist-packages/sklearn/ensemble/_forest.py:554: UserWarning: Some inputs do not have OOB scores. This probably means too few trees were used to compute any reliable OOB estimates.\n",
            "  UserWarning,\n"
          ]
        },
        {
          "name": "stdout",
          "output_type": "stream",
          "text": [
            "curr estimators: 26\n",
            "curr estimators: 28\n"
          ]
        },
        {
          "name": "stderr",
          "output_type": "stream",
          "text": [
            "/usr/local/lib/python3.7/dist-packages/sklearn/ensemble/_forest.py:554: UserWarning: Some inputs do not have OOB scores. This probably means too few trees were used to compute any reliable OOB estimates.\n",
            "  UserWarning,\n"
          ]
        },
        {
          "name": "stdout",
          "output_type": "stream",
          "text": [
            "curr estimators: 30\n",
            "curr estimators: 32\n",
            "curr estimators: 34\n",
            "curr estimators: 36\n",
            "curr estimators: 38\n",
            "curr estimators: 40\n",
            "curr estimators: 42\n",
            "curr estimators: 44\n",
            "curr estimators: 46\n",
            "curr estimators: 48\n",
            "curr estimators: 50\n",
            "curr estimators: 52\n",
            "curr estimators: 54\n",
            "curr estimators: 56\n",
            "curr estimators: 58\n",
            "curr estimators: 60\n",
            "curr estimators: 62\n",
            "curr estimators: 64\n",
            "curr estimators: 66\n",
            "curr estimators: 68\n",
            "curr estimators: 70\n",
            "curr estimators: 72\n",
            "curr estimators: 74\n",
            "curr estimators: 76\n",
            "curr estimators: 78\n",
            "curr estimators: 80\n",
            "curr estimators: 82\n",
            "curr estimators: 84\n",
            "curr estimators: 86\n",
            "curr estimators: 88\n",
            "curr estimators: 90\n",
            "curr estimators: 92\n",
            "curr estimators: 94\n",
            "curr estimators: 96\n",
            "curr estimators: 98\n"
          ]
        },
        {
          "data": {
            "image/png": "[encoded data removed]",
            "text/plain": [
              "<Figure size 432x288 with 1 Axes>"
            ]
          },
          "metadata": {},
          "output_type": "display_data"
        }
      ]
    },
    {
      "cell_type": "code",
      "metadata": {
        "colab": {
          "base_uri": "https://localhost:8080/",
          "height": 713
        },
        "id": "0ZXPdMzvazCp",
        "outputId": "124e9978-f283-4bbd-d505-fdb4ce036cae"
      },
      "source": [
        "oob_list2 = []\n",
        "\n",
        "for i in range(100, 150, 2):\n",
        "    print(\"curr estimators:\", i)\n",
        "    forest = RandomForestClassifier(n_estimators = i, oob_score = True)\n",
        "    forest.fit(x_train_mod2, y_train_mod2.ravel())\n",
        "    oob_list2.append(forest.oob_score_)\n",
        "plt.plot(list(range(100, 150, 2)), oob_list2)\n",
        "plt.xlabel('# Trees')\n",
        "plt.ylabel('Out of Bag Classification Score')\n",
        "plt.show()"
      ],
      "execution_count": null,
      "outputs": [
        {
          "name": "stdout",
          "output_type": "stream",
          "text": [
            "curr estimators: 100\n",
            "curr estimators: 102\n",
            "curr estimators: 104\n",
            "curr estimators: 106\n",
            "curr estimators: 108\n",
            "curr estimators: 110\n",
            "curr estimators: 112\n",
            "curr estimators: 114\n",
            "curr estimators: 116\n",
            "curr estimators: 118\n",
            "curr estimators: 120\n",
            "curr estimators: 122\n",
            "curr estimators: 124\n",
            "curr estimators: 126\n",
            "curr estimators: 128\n",
            "curr estimators: 130\n",
            "curr estimators: 132\n",
            "curr estimators: 134\n",
            "curr estimators: 136\n",
            "curr estimators: 138\n",
            "curr estimators: 140\n",
            "curr estimators: 142\n",
            "curr estimators: 144\n",
            "curr estimators: 146\n",
            "curr estimators: 148\n"
          ]
        },
        {
          "data": {
            "image/png": "[encoded data removed]",
            "text/plain": [
              "<Figure size 432x288 with 1 Axes>"
            ]
          },
          "metadata": {},
          "output_type": "display_data"
        }
      ]
    },
    {
      "cell_type": "code",
      "metadata": {
        "colab": {
          "base_uri": "https://localhost:8080/",
          "height": 713
        },
        "id": "9qDJBpZYW9Ad",
        "outputId": "ab0e60bb-86fa-4690-ef0c-e4523bccdd2d"
      },
      "source": [
        "oob_list3 = []\n",
        "\n",
        "for i in range(150, 200, 2):\n",
        "    print(\"curr estimators:\", i)\n",
        "    forest = RandomForestClassifier(n_estimators = i, oob_score = True)\n",
        "    forest.fit(x_train_mod2, y_train_mod2.ravel())\n",
        "    oob_list3.append(forest.oob_score_)\n",
        "plt.plot(list(range(150, 200, 2)), oob_list3)\n",
        "plt.xlabel('# Trees')\n",
        "plt.ylabel('Out of Bag Classification Score')\n",
        "plt.show()"
      ],
      "execution_count": null,
      "outputs": [
        {
          "name": "stdout",
          "output_type": "stream",
          "text": [
            "curr estimators: 150\n",
            "curr estimators: 152\n",
            "curr estimators: 154\n",
            "curr estimators: 156\n",
            "curr estimators: 158\n",
            "curr estimators: 160\n",
            "curr estimators: 162\n",
            "curr estimators: 164\n",
            "curr estimators: 166\n",
            "curr estimators: 168\n",
            "curr estimators: 170\n",
            "curr estimators: 172\n",
            "curr estimators: 174\n",
            "curr estimators: 176\n",
            "curr estimators: 178\n",
            "curr estimators: 180\n",
            "curr estimators: 182\n",
            "curr estimators: 184\n",
            "curr estimators: 186\n",
            "curr estimators: 188\n",
            "curr estimators: 190\n",
            "curr estimators: 192\n",
            "curr estimators: 194\n",
            "curr estimators: 196\n",
            "curr estimators: 198\n"
          ]
        },
        {
          "data": {
            "image/png": "[encoded data removed]",
            "text/plain": [
              "<Figure size 432x288 with 1 Axes>"
            ]
          },
          "metadata": {},
          "output_type": "display_data"
        }
      ]
    },
    {
      "cell_type": "code",
      "metadata": {
        "colab": {
          "base_uri": "https://localhost:8080/"
        },
        "id": "tqpJM1E-WdSz",
        "outputId": "73f46773-bfd0-41d6-ff2f-87f6cc48bae0"
      },
      "source": [
        "forest = RandomForestClassifier(n_estimators = 182, oob_score = True)\n",
        "forest.fit(x_train_mod2, y_train_mod2.ravel())\n",
        "val_list = forest.feature_importances_\n",
        "idx_list = np.argsort(val_list)[::-1]\n",
        "\n",
        "print('From high to low:')\n",
        "for idx in idx_list:\n",
        "    print('Feature %d: %f' % (idx, val_list[idx]))"
      ],
      "execution_count": null,
      "outputs": [
        {
          "name": "stdout",
          "output_type": "stream",
          "text": [
            "From high to low:\n",
            "Feature 0: 0.215777\n",
            "Feature 4: 0.187571\n",
            "Feature 3: 0.174209\n",
            "Feature 1: 0.166072\n",
            "Feature 2: 0.162683\n",
            "Feature 5: 0.050670\n",
            "Feature 6: 0.043017\n"
          ]
        }
      ]
    },
    {
      "cell_type": "code",
      "metadata": {
        "colab": {
          "base_uri": "https://localhost:8080/"
        },
        "id": "JZzhCKLxcJvw",
        "outputId": "ad5a6cec-43a7-4df8-a624-49fe50773faa"
      },
      "source": [
        "x_train_mod3 = np.array(cleaned_stat.iloc[:, col_index+1:])\n",
        "y_mod3 = cleaned_stat.iloc[:, [col_index]]\n",
        "y_train_mod3 = np.array(y_mod3)\n",
        "\n",
        "forest.fit(x_train_mod3, y_train_mod3.ravel())\n",
        "print(forest.score(x_train_mod3, y_train_mod3))\n",
        "print(forest.oob_score_)"
      ],
      "execution_count": null,
      "outputs": [
        {
          "name": "stdout",
          "output_type": "stream",
          "text": [
            "1.0\n",
            "0.6264445395581603\n"
          ]
        }
      ]
    },
    {
      "cell_type": "code",
      "metadata": {
        "colab": {
          "base_uri": "https://localhost:8080/"
        },
        "id": "Ek4exF0v3V2O",
        "outputId": "c793bbd5-f1a5-4b43-ab85-492e1e4ab2e3"
      },
      "source": [
        "forest = RandomForestClassifier(n_estimators = 182, oob_score = True)\n",
        "\n",
        "x_train_mod2 = np.array(cleaned_stat.iloc[:, col_index+1:])\n",
        "y_mod2 = cleaned_stat.iloc[:, [col_index]]\n",
        "y_train_mod2 = np.array(y_mod2)\n",
        "\n",
        "X_train, X_test, y_train, y_test = train_test_split(cleaned_stat, y_train_mod2, test_size=0.2, random_state=2020)\n",
        "\n",
        "forest.fit(X_train, y_train.ravel())\n",
        "print(forest.score(X_test, y_test))\n",
        "print(forest.oob_score_)\n",
        "\n"
      ],
      "execution_count": null,
      "outputs": [
        {
          "name": "stderr",
          "output_type": "stream",
          "text": [
            "/usr/local/lib/python3.7/dist-packages/sklearn/base.py:446: UserWarning: X does not have valid feature names, but RandomForestClassifier was fitted with feature names\n",
            "  \"X does not have valid feature names, but\"\n"
          ]
        },
        {
          "name": "stdout",
          "output_type": "stream",
          "text": [
            "0.8585185185185186\n",
            "0.8519837023623343\n"
          ]
        }
      ]
    }
  ]
}